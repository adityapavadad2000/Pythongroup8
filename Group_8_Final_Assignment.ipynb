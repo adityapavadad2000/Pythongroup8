{
 "cells": [
  {
   "cell_type": "markdown",
   "metadata": {},
   "source": [
    "# Project Group - 8\n",
    "\n",
    "Members: Jelmer van Gestel, Donna Bouman, Aditya Pavadad, Willemijn Mulder,  Raihan Bagus Sakti Aji\n",
    "\n",
    "Student numbers: 4868420, 5112184, 6004695, 4954610, 5466547"
   ]
  },
  {
   "cell_type": "markdown",
   "metadata": {},
   "source": [
    "# Research Objective"
   ]
  },
  {
   "cell_type": "markdown",
   "metadata": {},
   "source": [
    "For this research, the impact of covid on the freight industry in the Netherlands was examined. On a macro level, the difference in total delivered goods (in tonnes) was examined from 2010 to 2023 for each sector of the freight industry. The examined industry sectors were:\n",
    "* Road\n",
    "* Rail\n",
    "* Boat\n",
    "\n",
    "After examening the overal difference in transported tonnes, a set of product categories was examined indepth. The amount of tonnes transported from 2010 to 2023 for each category was compared in order to see which category was impacted the most by the COVID measures in the Netherlands. The category of goods were classified as follows:\n",
    "* Metal ores\n",
    "* Food products\n",
    "* Non-metalic\n",
    "* Agricultur\n",
    "* Raw materials\n",
    "* Chemical products\n",
    "* Wood products\n",
    "* Basic metals\n"
   ]
  },
  {
   "cell_type": "markdown",
   "metadata": {},
   "source": [
    "The transportation of goods by plane was excluded from the analysis as planes transport a different category of goods, often goods that are light and need quick transportation like fruit and flowers. This creates an uneven comparison between good categories across the different industries."
   ]
  },
  {
   "cell_type": "markdown",
   "metadata": {},
   "source": [
    "# Macro analysis Over-All Transport"
   ]
  },
  {
   "cell_type": "markdown",
   "metadata": {},
   "source": [
    "To answer the question how COVID impacted the feight industry in the Netherlands, the total amount of shipped goods imported/exported to the Netherlands was examined using Eurostat (SOURCE). The results can be seen below."
   ]
  },
  {
   "cell_type": "markdown",
   "metadata": {},
   "source": []
  },
  {
   "cell_type": "markdown",
   "metadata": {},
   "source": [
    "# Contribution Statement"
   ]
  },
  {
   "cell_type": "markdown",
   "metadata": {},
   "source": []
  },
  {
   "cell_type": "markdown",
   "metadata": {},
   "source": [
    "**Author 1**: Gathering data about goods tranpsorted by road: Willemijn\n",
    "\n",
    "**Author 2**: Gathering data about goods transported by rail: Raihan\n",
    "\n",
    "**Author 3**: Gathering data about goods transported by plane: Aditya\n",
    "\n",
    "**Author 4**: Gathering data about goods transported by boat: Donna\n",
    "\n",
    "**Author 5**: Gathering data about overal tonnes transported by the freight industry: Jelmer"
   ]
  }
 ],
 "metadata": {
  "kernelspec": {
   "display_name": "TIL6022",
   "language": "python",
   "name": "python3"
  },
  "language_info": {
   "codemirror_mode": {
    "name": "ipython",
    "version": 3
   },
   "file_extension": ".py",
   "mimetype": "text/x-python",
   "name": "python",
   "nbconvert_exporter": "python",
   "pygments_lexer": "ipython3",
   "version": "3.11.4"
  }
 },
 "nbformat": 4,
 "nbformat_minor": 2
}
