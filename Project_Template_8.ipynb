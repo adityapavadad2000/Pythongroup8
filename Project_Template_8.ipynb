{
 "cells": [
  {
   "cell_type": "markdown",
   "metadata": {},
   "source": [
    "# Project Group - \n",
    "\n",
    "Members: Jelmer van Gestel, Donna Bouman, Aditya Pavadad, Willemijn Mulder,  Raihan Bagus Sakti Aji\n",
    "\n",
    "Student numbers: 4868420, 5112184, 6004695, 4954610, 5466547"
   ]
  },
  {
   "cell_type": "markdown",
   "metadata": {},
   "source": [
    "# Research Objective\n",
    "\n",
    "*Requires data modeling and quantitative research in Transport, Infrastructure & Logistics*"
   ]
  },
  {
   "cell_type": "markdown",
   "metadata": {},
   "source": [
    "For this research, the impact of covid on the freight industry in the Netherlands was examined. On a macro level, the difference in total delivered goods (in tonnes) was examined from 2010 to 2023 for each sector of the freight industry. The examined industry sectors were:\n",
    "* Road\n",
    "* Rail\n",
    "* Plane\n",
    "* Boat\n",
    "\n",
    "After examening the overal difference in transported tonnes, a set of product categories was examined indepth. The amount of tonnes transported from 2010 to 2023 for each category was compared in order to see which category was impacted the most by the COVID measures in the Netherlands. The category of goods were classified as follows:\n",
    "* Metal ores\n",
    "* Food products\n",
    "* Non-metalic\n",
    "* Agricultur\n",
    "* Raw materials\n",
    "* Chemical products\n",
    "* Wood products\n",
    "* Basic metals\n"
   ]
  },
  {
   "cell_type": "markdown",
   "metadata": {},
   "source": [
    "# Contribution Statement\n",
    "\n",
    "*Be specific. Some of the tasks can be coding (expect everyone to do this), background research, conceptualisation, visualisation, data analysis, data modelling*"
   ]
  },
  {
   "cell_type": "markdown",
   "metadata": {},
   "source": [
    "**Author 1**: Gathering data about goods tranpsorted by road: Willemijn\n",
    "\n",
    "**Author 2**: Gathering data about goods transported by rail: Raihan\n",
    "\n",
    "**Author 3**: Gathering data about goods transported by plane: Aditya\n",
    "\n",
    "**Author 4**: Gathering data about goods transported by boat: Donna\n",
    "\n",
    "**Author 5**: Gathering data about overal tonnes transported by the freight industry: Jelmer"
   ]
  },
  {
   "cell_type": "markdown",
   "metadata": {},
   "source": [
    "# Data Used"
   ]
  },
  {
   "cell_type": "markdown",
   "metadata": {},
   "source": [
    "For this research we will be using CBS data on the transportation of goods in the Netherlands, from 2010 to 2023. First we will use data about the overal tonnes transported in the Netherlands; this sums the total amount of import and export in tonnes. \n",
    "* https://www.cbs.nl/en-gb/figures/detail/83101ENG\n",
    "\n",
    "We will also be using CBS to find what goods were transported per industry sector (in tonnes)."
   ]
  },
  {
   "cell_type": "markdown",
   "metadata": {},
   "source": [
    "# Data Pipeline"
   ]
  },
  {
   "cell_type": "markdown",
   "metadata": {},
   "source": [
    "Are you a duck? Cuz you are quacktastic <3"
   ]
  }
 ],
 "metadata": {
  "kernelspec": {
   "display_name": "Python 3",
   "language": "python",
   "name": "python3"
  },
  "language_info": {
   "name": "python",
   "version": "3.11.4"
  },
  "orig_nbformat": 4,
  "vscode": {
   "interpreter": {
    "hash": "31f2aee4e71d21fbe5cf8b01ff0e069b9275f58929596ceb00d14d90e3e16cd6"
   }
  }
 },
 "nbformat": 4,
 "nbformat_minor": 2
}
