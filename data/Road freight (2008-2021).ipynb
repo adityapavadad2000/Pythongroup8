{
 "cells": [
  {
   "cell_type": "code",
   "execution_count": 2,
   "id": "41bcdba5",
   "metadata": {},
   "outputs": [],
   "source": [
    "import pandas as pd\n",
    "import plotly.io as pio\n",
    "import plotly.express as px"
   ]
  },
  {
   "cell_type": "code",
   "execution_count": 3,
   "id": "1e3ac423",
   "metadata": {},
   "outputs": [
    {
     "data": {
      "text/html": [
       "<div>\n",
       "<style scoped>\n",
       "    .dataframe tbody tr th:only-of-type {\n",
       "        vertical-align: middle;\n",
       "    }\n",
       "\n",
       "    .dataframe tbody tr th {\n",
       "        vertical-align: top;\n",
       "    }\n",
       "\n",
       "    .dataframe thead th {\n",
       "        text-align: right;\n",
       "    }\n",
       "</style>\n",
       "<table border=\"1\" class=\"dataframe\">\n",
       "  <thead>\n",
       "    <tr style=\"text-align: right;\">\n",
       "      <th></th>\n",
       "      <th>Year</th>\n",
       "      <th>Amount</th>\n",
       "      <th>Type of good</th>\n",
       "    </tr>\n",
       "  </thead>\n",
       "  <tbody>\n",
       "    <tr>\n",
       "      <th>0</th>\n",
       "      <td>2008.0</td>\n",
       "      <td>6,21,287</td>\n",
       "      <td>Total transported goods</td>\n",
       "    </tr>\n",
       "    <tr>\n",
       "      <th>1</th>\n",
       "      <td>NaN</td>\n",
       "      <td>NaN</td>\n",
       "      <td>Total transported goods</td>\n",
       "    </tr>\n",
       "    <tr>\n",
       "      <th>2</th>\n",
       "      <td>2009.0</td>\n",
       "      <td>6,16,903</td>\n",
       "      <td>Total transported goods</td>\n",
       "    </tr>\n",
       "    <tr>\n",
       "      <th>3</th>\n",
       "      <td>NaN</td>\n",
       "      <td>NaN</td>\n",
       "      <td>Total transported goods</td>\n",
       "    </tr>\n",
       "    <tr>\n",
       "      <th>4</th>\n",
       "      <td>2010.0</td>\n",
       "      <td>6,57,874</td>\n",
       "      <td>Total transported goods</td>\n",
       "    </tr>\n",
       "    <tr>\n",
       "      <th>...</th>\n",
       "      <td>...</td>\n",
       "      <td>...</td>\n",
       "      <td>...</td>\n",
       "    </tr>\n",
       "    <tr>\n",
       "      <th>655</th>\n",
       "      <td>NaN</td>\n",
       "      <td>NaN</td>\n",
       "      <td>Total transported goods</td>\n",
       "    </tr>\n",
       "    <tr>\n",
       "      <th>656</th>\n",
       "      <td>NaN</td>\n",
       "      <td>NaN</td>\n",
       "      <td>NaN</td>\n",
       "    </tr>\n",
       "    <tr>\n",
       "      <th>657</th>\n",
       "      <td>NaN</td>\n",
       "      <td>NaN</td>\n",
       "      <td>Total transported goods</td>\n",
       "    </tr>\n",
       "    <tr>\n",
       "      <th>658</th>\n",
       "      <td>NaN</td>\n",
       "      <td>NaN</td>\n",
       "      <td>NaN</td>\n",
       "    </tr>\n",
       "    <tr>\n",
       "      <th>659</th>\n",
       "      <td>NaN</td>\n",
       "      <td>NaN</td>\n",
       "      <td>Total transported goods</td>\n",
       "    </tr>\n",
       "  </tbody>\n",
       "</table>\n",
       "<p>660 rows × 3 columns</p>\n",
       "</div>"
      ],
      "text/plain": [
       "       Year    Amount             Type of good\n",
       "0    2008.0  6,21,287  Total transported goods\n",
       "1       NaN       NaN  Total transported goods\n",
       "2    2009.0  6,16,903  Total transported goods\n",
       "3       NaN       NaN  Total transported goods\n",
       "4    2010.0  6,57,874  Total transported goods\n",
       "..      ...       ...                      ...\n",
       "655     NaN       NaN  Total transported goods\n",
       "656     NaN       NaN                      NaN\n",
       "657     NaN       NaN  Total transported goods\n",
       "658     NaN       NaN                      NaN\n",
       "659     NaN       NaN  Total transported goods\n",
       "\n",
       "[660 rows x 3 columns]"
      ]
     },
     "execution_count": 3,
     "metadata": {},
     "output_type": "execute_result"
    }
   ],
   "source": [
    "df = pd.read_csv(\"Data_(Road)_1.csv\")\n",
    "df"
   ]
  },
  {
   "cell_type": "code",
   "execution_count": 4,
   "id": "5331bd3d",
   "metadata": {},
   "outputs": [
    {
     "name": "stderr",
     "output_type": "stream",
     "text": [
      "C:\\Users\\Aditya Pavadad\\AppData\\Local\\Temp\\ipykernel_30828\\3494065365.py:5: SettingWithCopyWarning: \n",
      "A value is trying to be set on a copy of a slice from a DataFrame.\n",
      "Try using .loc[row_indexer,col_indexer] = value instead\n",
      "\n",
      "See the caveats in the documentation: https://pandas.pydata.org/pandas-docs/stable/user_guide/indexing.html#returning-a-view-versus-a-copy\n",
      "  df['Amount'] = df['Amount'].map(lambda x: x.replace(',', ''))\n",
      "C:\\Users\\Aditya Pavadad\\AppData\\Local\\Temp\\ipykernel_30828\\3494065365.py:6: SettingWithCopyWarning: \n",
      "A value is trying to be set on a copy of a slice from a DataFrame.\n",
      "Try using .loc[row_indexer,col_indexer] = value instead\n",
      "\n",
      "See the caveats in the documentation: https://pandas.pydata.org/pandas-docs/stable/user_guide/indexing.html#returning-a-view-versus-a-copy\n",
      "  df['Year'] = pd.Series(df['Year'], dtype='int')\n",
      "C:\\Users\\Aditya Pavadad\\AppData\\Local\\Temp\\ipykernel_30828\\3494065365.py:7: SettingWithCopyWarning: \n",
      "A value is trying to be set on a copy of a slice from a DataFrame.\n",
      "Try using .loc[row_indexer,col_indexer] = value instead\n",
      "\n",
      "See the caveats in the documentation: https://pandas.pydata.org/pandas-docs/stable/user_guide/indexing.html#returning-a-view-versus-a-copy\n",
      "  df['Amount'] = pd.Series(df['Amount'], dtype='float')\n"
     ]
    }
   ],
   "source": [
    "df['Year'] = df['Year'].astype(str).str.replace('.0', '', regex=False)\n",
    "\n",
    "df = df.dropna()\n",
    "\n",
    "df['Amount'] = df['Amount'].map(lambda x: x.replace(',', ''))\n",
    "df['Year'] = pd.Series(df['Year'], dtype='int')\n",
    "df['Amount'] = pd.Series(df['Amount'], dtype='float')"
   ]
  },
  {
   "cell_type": "code",
   "execution_count": 5,
   "id": "9cde048a",
   "metadata": {},
   "outputs": [
    {
     "data": {
      "text/html": [
       "<div>\n",
       "<style scoped>\n",
       "    .dataframe tbody tr th:only-of-type {\n",
       "        vertical-align: middle;\n",
       "    }\n",
       "\n",
       "    .dataframe tbody tr th {\n",
       "        vertical-align: top;\n",
       "    }\n",
       "\n",
       "    .dataframe thead th {\n",
       "        text-align: right;\n",
       "    }\n",
       "</style>\n",
       "<table border=\"1\" class=\"dataframe\">\n",
       "  <thead>\n",
       "    <tr style=\"text-align: right;\">\n",
       "      <th></th>\n",
       "      <th>Year</th>\n",
       "      <th>Amount</th>\n",
       "      <th>Type of good</th>\n",
       "    </tr>\n",
       "  </thead>\n",
       "  <tbody>\n",
       "    <tr>\n",
       "      <th>0</th>\n",
       "      <td>2008</td>\n",
       "      <td>621287.0</td>\n",
       "      <td>Total transported goods</td>\n",
       "    </tr>\n",
       "    <tr>\n",
       "      <th>2</th>\n",
       "      <td>2009</td>\n",
       "      <td>616903.0</td>\n",
       "      <td>Total transported goods</td>\n",
       "    </tr>\n",
       "    <tr>\n",
       "      <th>4</th>\n",
       "      <td>2010</td>\n",
       "      <td>657874.0</td>\n",
       "      <td>Total transported goods</td>\n",
       "    </tr>\n",
       "    <tr>\n",
       "      <th>6</th>\n",
       "      <td>2011</td>\n",
       "      <td>658032.0</td>\n",
       "      <td>Total transported goods</td>\n",
       "    </tr>\n",
       "    <tr>\n",
       "      <th>8</th>\n",
       "      <td>2012</td>\n",
       "      <td>631898.0</td>\n",
       "      <td>Total transported goods</td>\n",
       "    </tr>\n",
       "    <tr>\n",
       "      <th>...</th>\n",
       "      <td>...</td>\n",
       "      <td>...</td>\n",
       "      <td>...</td>\n",
       "    </tr>\n",
       "    <tr>\n",
       "      <th>620</th>\n",
       "      <td>2018</td>\n",
       "      <td>0.0</td>\n",
       "      <td>Other goods n.e.c.</td>\n",
       "    </tr>\n",
       "    <tr>\n",
       "      <th>622</th>\n",
       "      <td>2019</td>\n",
       "      <td>0.0</td>\n",
       "      <td>Other goods n.e.c.</td>\n",
       "    </tr>\n",
       "    <tr>\n",
       "      <th>624</th>\n",
       "      <td>2020</td>\n",
       "      <td>0.0</td>\n",
       "      <td>Other goods n.e.c.</td>\n",
       "    </tr>\n",
       "    <tr>\n",
       "      <th>626</th>\n",
       "      <td>2021</td>\n",
       "      <td>0.0</td>\n",
       "      <td>Other goods n.e.c.</td>\n",
       "    </tr>\n",
       "    <tr>\n",
       "      <th>628</th>\n",
       "      <td>2022</td>\n",
       "      <td>0.0</td>\n",
       "      <td>Other goods n.e.c.</td>\n",
       "    </tr>\n",
       "  </tbody>\n",
       "</table>\n",
       "<p>315 rows × 3 columns</p>\n",
       "</div>"
      ],
      "text/plain": [
       "     Year    Amount             Type of good\n",
       "0    2008  621287.0  Total transported goods\n",
       "2    2009  616903.0  Total transported goods\n",
       "4    2010  657874.0  Total transported goods\n",
       "6    2011  658032.0  Total transported goods\n",
       "8    2012  631898.0  Total transported goods\n",
       "..    ...       ...                      ...\n",
       "620  2018       0.0       Other goods n.e.c.\n",
       "622  2019       0.0       Other goods n.e.c.\n",
       "624  2020       0.0       Other goods n.e.c.\n",
       "626  2021       0.0       Other goods n.e.c.\n",
       "628  2022       0.0       Other goods n.e.c.\n",
       "\n",
       "[315 rows x 3 columns]"
      ]
     },
     "execution_count": 5,
     "metadata": {},
     "output_type": "execute_result"
    }
   ],
   "source": [
    "df"
   ]
  },
  {
   "cell_type": "code",
   "execution_count": 10,
   "id": "2a960dc8",
   "metadata": {},
   "outputs": [
    {
     "data": {
      "text/html": [
       "<div>\n",
       "<style scoped>\n",
       "    .dataframe tbody tr th:only-of-type {\n",
       "        vertical-align: middle;\n",
       "    }\n",
       "\n",
       "    .dataframe tbody tr th {\n",
       "        vertical-align: top;\n",
       "    }\n",
       "\n",
       "    .dataframe thead th {\n",
       "        text-align: right;\n",
       "    }\n",
       "</style>\n",
       "<table border=\"1\" class=\"dataframe\">\n",
       "  <thead>\n",
       "    <tr style=\"text-align: right;\">\n",
       "      <th></th>\n",
       "      <th>Year</th>\n",
       "      <th>Amount</th>\n",
       "      <th>Type of good</th>\n",
       "    </tr>\n",
       "  </thead>\n",
       "  <tbody>\n",
       "    <tr>\n",
       "      <th>0</th>\n",
       "      <td>2008</td>\n",
       "      <td>53262.0</td>\n",
       "      <td>Products of agriculture, hunting, and forestry...</td>\n",
       "    </tr>\n",
       "    <tr>\n",
       "      <th>1</th>\n",
       "      <td>2009</td>\n",
       "      <td>61042.0</td>\n",
       "      <td>Products of agriculture, hunting, and forestry...</td>\n",
       "    </tr>\n",
       "    <tr>\n",
       "      <th>2</th>\n",
       "      <td>2010</td>\n",
       "      <td>60681.0</td>\n",
       "      <td>Products of agriculture, hunting, and forestry...</td>\n",
       "    </tr>\n",
       "    <tr>\n",
       "      <th>3</th>\n",
       "      <td>2011</td>\n",
       "      <td>60575.0</td>\n",
       "      <td>Products of agriculture, hunting, and forestry...</td>\n",
       "    </tr>\n",
       "    <tr>\n",
       "      <th>4</th>\n",
       "      <td>2012</td>\n",
       "      <td>60537.0</td>\n",
       "      <td>Products of agriculture, hunting, and forestry...</td>\n",
       "    </tr>\n",
       "    <tr>\n",
       "      <th>...</th>\n",
       "      <td>...</td>\n",
       "      <td>...</td>\n",
       "      <td>...</td>\n",
       "    </tr>\n",
       "    <tr>\n",
       "      <th>295</th>\n",
       "      <td>2018</td>\n",
       "      <td>0.0</td>\n",
       "      <td>Other goods n.e.c.</td>\n",
       "    </tr>\n",
       "    <tr>\n",
       "      <th>296</th>\n",
       "      <td>2019</td>\n",
       "      <td>0.0</td>\n",
       "      <td>Other goods n.e.c.</td>\n",
       "    </tr>\n",
       "    <tr>\n",
       "      <th>297</th>\n",
       "      <td>2020</td>\n",
       "      <td>0.0</td>\n",
       "      <td>Other goods n.e.c.</td>\n",
       "    </tr>\n",
       "    <tr>\n",
       "      <th>298</th>\n",
       "      <td>2021</td>\n",
       "      <td>0.0</td>\n",
       "      <td>Other goods n.e.c.</td>\n",
       "    </tr>\n",
       "    <tr>\n",
       "      <th>299</th>\n",
       "      <td>2022</td>\n",
       "      <td>0.0</td>\n",
       "      <td>Other goods n.e.c.</td>\n",
       "    </tr>\n",
       "  </tbody>\n",
       "</table>\n",
       "<p>300 rows × 3 columns</p>\n",
       "</div>"
      ],
      "text/plain": [
       "     Year   Amount                                       Type of good\n",
       "0    2008  53262.0  Products of agriculture, hunting, and forestry...\n",
       "1    2009  61042.0  Products of agriculture, hunting, and forestry...\n",
       "2    2010  60681.0  Products of agriculture, hunting, and forestry...\n",
       "3    2011  60575.0  Products of agriculture, hunting, and forestry...\n",
       "4    2012  60537.0  Products of agriculture, hunting, and forestry...\n",
       "..    ...      ...                                                ...\n",
       "295  2018      0.0                                 Other goods n.e.c.\n",
       "296  2019      0.0                                 Other goods n.e.c.\n",
       "297  2020      0.0                                 Other goods n.e.c.\n",
       "298  2021      0.0                                 Other goods n.e.c.\n",
       "299  2022      0.0                                 Other goods n.e.c.\n",
       "\n",
       "[300 rows x 3 columns]"
      ]
     },
     "execution_count": 10,
     "metadata": {},
     "output_type": "execute_result"
    }
   ],
   "source": [
    "df1"
   ]
  },
  {
   "cell_type": "code",
   "execution_count": 7,
   "id": "a98ded4c",
   "metadata": {},
   "outputs": [],
   "source": [
    "df1 = df[15:].reset_index(drop = True)"
   ]
  },
  {
   "cell_type": "code",
   "execution_count": 24,
   "id": "73d610d1",
   "metadata": {},
   "outputs": [
    {
     "data": {
      "application/vnd.plotly.v1+json": {
       "config": {
        "plotlyServerURL": "https://plot.ly"
       },
       "data": [
        {
         "alignmentgroup": "True",
         "hovertemplate": "Type of good=Products of agriculture, hunting, and forestry; fish and other fishing products<br>Year=%{x}<br>Amount=%{y}<extra></extra>",
         "legendgroup": "Products of agriculture, hunting, and forestry; fish and other fishing products",
         "marker": {
          "color": "#636efa",
          "pattern": {
           "shape": ""
          }
         },
         "name": "Products of agriculture, hunting, and forestry; fish and other fishing products",
         "offsetgroup": "Products of agriculture, hunting, and forestry; fish and other fishing products",
         "orientation": "v",
         "showlegend": true,
         "textposition": "auto",
         "type": "bar",
         "x": [
          2008,
          2009,
          2010,
          2011,
          2012,
          2013,
          2014,
          2015,
          2016,
          2017,
          2018,
          2019,
          2020,
          2021,
          2022
         ],
         "xaxis": "x",
         "y": [
          53262,
          61042,
          60681,
          60575,
          60537,
          59765,
          62045,
          57714,
          61416,
          57400,
          60918,
          61832,
          66636,
          69045,
          59789
         ],
         "yaxis": "y"
        },
        {
         "alignmentgroup": "True",
         "hovertemplate": "Type of good=Coal and lignite; crude petroleum and natural gas<br>Year=%{x}<br>Amount=%{y}<extra></extra>",
         "legendgroup": "Coal and lignite; crude petroleum and natural gas",
         "marker": {
          "color": "#EF553B",
          "pattern": {
           "shape": ""
          }
         },
         "name": "Coal and lignite; crude petroleum and natural gas",
         "offsetgroup": "Coal and lignite; crude petroleum and natural gas",
         "orientation": "v",
         "showlegend": true,
         "textposition": "auto",
         "type": "bar",
         "x": [
          2008,
          2009,
          2010,
          2011,
          2012,
          2013,
          2014,
          2015,
          2016,
          2017,
          2018,
          2019,
          2020,
          2021,
          2022
         ],
         "xaxis": "x",
         "y": [
          238,
          253,
          319,
          187,
          199,
          311,
          149,
          293,
          661,
          72,
          308,
          416,
          518,
          198,
          506
         ],
         "yaxis": "y"
        },
        {
         "alignmentgroup": "True",
         "hovertemplate": "Type of good=Metal ores and other mining and quarrying products; peat; uranium and thorium<br>Year=%{x}<br>Amount=%{y}<extra></extra>",
         "legendgroup": "Metal ores and other mining and quarrying products; peat; uranium and thorium",
         "marker": {
          "color": "#00cc96",
          "pattern": {
           "shape": ""
          }
         },
         "name": "Metal ores and other mining and quarrying products; peat; uranium and thorium",
         "offsetgroup": "Metal ores and other mining and quarrying products; peat; uranium and thorium",
         "orientation": "v",
         "showlegend": true,
         "textposition": "auto",
         "type": "bar",
         "x": [
          2008,
          2009,
          2010,
          2011,
          2012,
          2013,
          2014,
          2015,
          2016,
          2017,
          2018,
          2019,
          2020,
          2021,
          2022
         ],
         "xaxis": "x",
         "y": [
          108030,
          111394,
          89415,
          93053,
          93022,
          84759,
          91680,
          90379,
          93043,
          92264,
          97373,
          93583,
          100138,
          99622,
          92578
         ],
         "yaxis": "y"
        },
        {
         "alignmentgroup": "True",
         "hovertemplate": "Type of good=Food products, beverages and tobacco<br>Year=%{x}<br>Amount=%{y}<extra></extra>",
         "legendgroup": "Food products, beverages and tobacco",
         "marker": {
          "color": "#ab63fa",
          "pattern": {
           "shape": ""
          }
         },
         "name": "Food products, beverages and tobacco",
         "offsetgroup": "Food products, beverages and tobacco",
         "orientation": "v",
         "showlegend": true,
         "textposition": "auto",
         "type": "bar",
         "x": [
          2008,
          2009,
          2010,
          2011,
          2012,
          2013,
          2014,
          2015,
          2016,
          2017,
          2018,
          2019,
          2020,
          2021,
          2022
         ],
         "xaxis": "x",
         "y": [
          92962,
          94167,
          117372,
          121654,
          122375,
          113171,
          115360,
          124106,
          126420,
          128539,
          124811,
          130810,
          129793,
          134873,
          142762
         ],
         "yaxis": "y"
        },
        {
         "alignmentgroup": "True",
         "hovertemplate": "Type of good=Textiles and textile products; leather and leather products<br>Year=%{x}<br>Amount=%{y}<extra></extra>",
         "legendgroup": "Textiles and textile products; leather and leather products",
         "marker": {
          "color": "#FFA15A",
          "pattern": {
           "shape": ""
          }
         },
         "name": "Textiles and textile products; leather and leather products",
         "offsetgroup": "Textiles and textile products; leather and leather products",
         "orientation": "v",
         "showlegend": true,
         "textposition": "auto",
         "type": "bar",
         "x": [
          2008,
          2009,
          2010,
          2011,
          2012,
          2013,
          2014,
          2015,
          2016,
          2017,
          2018,
          2019,
          2020,
          2021,
          2022
         ],
         "xaxis": "x",
         "y": [
          3961,
          3829,
          5445,
          5147,
          4582,
          4797,
          4415,
          4158,
          4181,
          3789,
          3690,
          5160,
          3993,
          3931,
          3852
         ],
         "yaxis": "y"
        },
        {
         "alignmentgroup": "True",
         "hovertemplate": "Type of good=Wood and products<br>Year=%{x}<br>Amount=%{y}<extra></extra>",
         "legendgroup": "Wood and products",
         "marker": {
          "color": "#19d3f3",
          "pattern": {
           "shape": ""
          }
         },
         "name": "Wood and products",
         "offsetgroup": "Wood and products",
         "orientation": "v",
         "showlegend": true,
         "textposition": "auto",
         "type": "bar",
         "x": [
          2008,
          2009,
          2010,
          2011,
          2012,
          2013,
          2014,
          2015,
          2016,
          2017,
          2018,
          2019,
          2020,
          2021,
          2022
         ],
         "xaxis": "x",
         "y": [
          28218,
          24190,
          27316,
          26879,
          24747,
          25536,
          26635,
          26720,
          24371,
          24285,
          23962,
          24373,
          24775,
          27893,
          23152
         ],
         "yaxis": "y"
        },
        {
         "alignmentgroup": "True",
         "hovertemplate": "Type of good=Coke and refined petroleum products<br>Year=%{x}<br>Amount=%{y}<extra></extra>",
         "legendgroup": "Coke and refined petroleum products",
         "marker": {
          "color": "#FF6692",
          "pattern": {
           "shape": ""
          }
         },
         "name": "Coke and refined petroleum products",
         "offsetgroup": "Coke and refined petroleum products",
         "orientation": "v",
         "showlegend": true,
         "textposition": "auto",
         "type": "bar",
         "x": [
          2008,
          2009,
          2010,
          2011,
          2012,
          2013,
          2014,
          2015,
          2016,
          2017,
          2018,
          2019,
          2020,
          2021,
          2022
         ],
         "xaxis": "x",
         "y": [
          7825,
          10258,
          20957,
          15712,
          13533,
          12451,
          10964,
          9195,
          9384,
          10022,
          9950,
          9841,
          9401,
          8884,
          8720
         ],
         "yaxis": "y"
        },
        {
         "alignmentgroup": "True",
         "hovertemplate": "Type of good=Chemicals, chemical products, and man-made fibers; rubber and plastic products ; nuclear fuel<br>Year=%{x}<br>Amount=%{y}<extra></extra>",
         "legendgroup": "Chemicals, chemical products, and man-made fibers; rubber and plastic products ; nuclear fuel",
         "marker": {
          "color": "#B6E880",
          "pattern": {
           "shape": ""
          }
         },
         "name": "Chemicals, chemical products, and man-made fibers; rubber and plastic products ; nuclear fuel",
         "offsetgroup": "Chemicals, chemical products, and man-made fibers; rubber and plastic products ; nuclear fuel",
         "orientation": "v",
         "showlegend": true,
         "textposition": "auto",
         "type": "bar",
         "x": [
          2008,
          2009,
          2010,
          2011,
          2012,
          2013,
          2014,
          2015,
          2016,
          2017,
          2018,
          2019,
          2020,
          2021,
          2022
         ],
         "xaxis": "x",
         "y": [
          48535,
          54903,
          59271,
          61258,
          65568,
          59472,
          57261,
          60920,
          61292,
          66774,
          65743,
          64506,
          64878,
          61769,
          62305
         ],
         "yaxis": "y"
        },
        {
         "alignmentgroup": "True",
         "hovertemplate": "Type of good=Other non metallic mineral products<br>Year=%{x}<br>Amount=%{y}<extra></extra>",
         "legendgroup": "Other non metallic mineral products",
         "marker": {
          "color": "#FF97FF",
          "pattern": {
           "shape": ""
          }
         },
         "name": "Other non metallic mineral products",
         "offsetgroup": "Other non metallic mineral products",
         "orientation": "v",
         "showlegend": true,
         "textposition": "auto",
         "type": "bar",
         "x": [
          2008,
          2009,
          2010,
          2011,
          2012,
          2013,
          2014,
          2015,
          2016,
          2017,
          2018,
          2019,
          2020,
          2021,
          2022
         ],
         "xaxis": "x",
         "y": [
          96883,
          94773,
          70153,
          72395,
          54654,
          66010,
          60728,
          60686,
          62077,
          68852,
          70898,
          75480,
          69203,
          68295,
          75980
         ],
         "yaxis": "y"
        },
        {
         "alignmentgroup": "True",
         "hovertemplate": "Type of good=Basic metals; fabricated metal products, except machinery and equipment<br>Year=%{x}<br>Amount=%{y}<extra></extra>",
         "legendgroup": "Basic metals; fabricated metal products, except machinery and equipment",
         "marker": {
          "color": "#FECB52",
          "pattern": {
           "shape": ""
          }
         },
         "name": "Basic metals; fabricated metal products, except machinery and equipment",
         "offsetgroup": "Basic metals; fabricated metal products, except machinery and equipment",
         "orientation": "v",
         "showlegend": true,
         "textposition": "auto",
         "type": "bar",
         "x": [
          2008,
          2009,
          2010,
          2011,
          2012,
          2013,
          2014,
          2015,
          2016,
          2017,
          2018,
          2019,
          2020,
          2021,
          2022
         ],
         "xaxis": "x",
         "y": [
          30167,
          25759,
          28521,
          30068,
          26983,
          26950,
          27542,
          24904,
          25097,
          24397,
          26202,
          22845,
          21734,
          24612,
          21995
         ],
         "yaxis": "y"
        },
        {
         "alignmentgroup": "True",
         "hovertemplate": "Type of good=Machinery and equipment<br>Year=%{x}<br>Amount=%{y}<extra></extra>",
         "legendgroup": "Machinery and equipment",
         "marker": {
          "color": "#636efa",
          "pattern": {
           "shape": ""
          }
         },
         "name": "Machinery and equipment",
         "offsetgroup": "Machinery and equipment",
         "orientation": "v",
         "showlegend": true,
         "textposition": "auto",
         "type": "bar",
         "x": [
          2008,
          2009,
          2010,
          2011,
          2012,
          2013,
          2014,
          2015,
          2016,
          2017,
          2018,
          2019,
          2020,
          2021,
          2022
         ],
         "xaxis": "x",
         "y": [
          20464,
          18687,
          23491,
          24408,
          23494,
          26373,
          23998,
          24934,
          26231,
          26918,
          25652,
          28421,
          26461,
          29775,
          28971
         ],
         "yaxis": "y"
        },
        {
         "alignmentgroup": "True",
         "hovertemplate": "Type of good=Transport equipment<br>Year=%{x}<br>Amount=%{y}<extra></extra>",
         "legendgroup": "Transport equipment",
         "marker": {
          "color": "#EF553B",
          "pattern": {
           "shape": ""
          }
         },
         "name": "Transport equipment",
         "offsetgroup": "Transport equipment",
         "orientation": "v",
         "showlegend": true,
         "textposition": "auto",
         "type": "bar",
         "x": [
          2008,
          2009,
          2010,
          2011,
          2012,
          2013,
          2014,
          2015,
          2016,
          2017,
          2018,
          2019,
          2020,
          2021,
          2022
         ],
         "xaxis": "x",
         "y": [
          15474,
          11620,
          9920,
          10506,
          8800,
          9434,
          8554,
          8514,
          9983,
          8600,
          9269,
          8088,
          7727,
          9078,
          6653
         ],
         "yaxis": "y"
        },
        {
         "alignmentgroup": "True",
         "hovertemplate": "Type of good=Furniture<br>Year=%{x}<br>Amount=%{y}<extra></extra>",
         "legendgroup": "Furniture",
         "marker": {
          "color": "#00cc96",
          "pattern": {
           "shape": ""
          }
         },
         "name": "Furniture",
         "offsetgroup": "Furniture",
         "orientation": "v",
         "showlegend": true,
         "textposition": "auto",
         "type": "bar",
         "x": [
          2008,
          2009,
          2010,
          2011,
          2012,
          2013,
          2014,
          2015,
          2016,
          2017,
          2018,
          2019,
          2020,
          2021,
          2022
         ],
         "xaxis": "x",
         "y": [
          2493,
          2269,
          3116,
          3275,
          3304,
          2304,
          2433,
          3336,
          3772,
          2443,
          3205,
          3565,
          2900,
          3073,
          2885
         ],
         "yaxis": "y"
        },
        {
         "alignmentgroup": "True",
         "hovertemplate": "Type of good=Secondary raw materials<br>Year=%{x}<br>Amount=%{y}<extra></extra>",
         "legendgroup": "Secondary raw materials",
         "marker": {
          "color": "#ab63fa",
          "pattern": {
           "shape": ""
          }
         },
         "name": "Secondary raw materials",
         "offsetgroup": "Secondary raw materials",
         "orientation": "v",
         "showlegend": true,
         "textposition": "auto",
         "type": "bar",
         "x": [
          2008,
          2009,
          2010,
          2011,
          2012,
          2013,
          2014,
          2015,
          2016,
          2017,
          2018,
          2019,
          2020,
          2021,
          2022
         ],
         "xaxis": "x",
         "y": [
          23517,
          23466,
          47804,
          40591,
          39706,
          46647,
          44204,
          43941,
          44352,
          42317,
          40059,
          40452,
          34827,
          38055,
          32236
         ],
         "yaxis": "y"
        },
        {
         "alignmentgroup": "True",
         "hovertemplate": "Type of good=Mail, parcels<br>Year=%{x}<br>Amount=%{y}<extra></extra>",
         "legendgroup": "Mail, parcels",
         "marker": {
          "color": "#FFA15A",
          "pattern": {
           "shape": ""
          }
         },
         "name": "Mail, parcels",
         "offsetgroup": "Mail, parcels",
         "orientation": "v",
         "showlegend": true,
         "textposition": "auto",
         "type": "bar",
         "x": [
          2008,
          2009,
          2010,
          2011,
          2012,
          2013,
          2014,
          2015,
          2016,
          2017,
          2018,
          2019,
          2020,
          2021,
          2022
         ],
         "xaxis": "x",
         "y": [
          0,
          0,
          792,
          1022,
          8589,
          2224,
          2996,
          3174,
          3320,
          2950,
          3902,
          3959,
          4643,
          6044,
          6513
         ],
         "yaxis": "y"
        },
        {
         "alignmentgroup": "True",
         "hovertemplate": "Type of good=Equipment and material utilized in the transport of goods<br>Year=%{x}<br>Amount=%{y}<extra></extra>",
         "legendgroup": "Equipment and material utilized in the transport of goods",
         "marker": {
          "color": "#19d3f3",
          "pattern": {
           "shape": ""
          }
         },
         "name": "Equipment and material utilized in the transport of goods",
         "offsetgroup": "Equipment and material utilized in the transport of goods",
         "orientation": "v",
         "showlegend": true,
         "textposition": "auto",
         "type": "bar",
         "x": [
          2008,
          2009,
          2010,
          2011,
          2012,
          2013,
          2014,
          2015,
          2016,
          2017,
          2018,
          2019,
          2020,
          2021,
          2022
         ],
         "xaxis": "x",
         "y": [
          18513,
          16433,
          17451,
          18414,
          18130,
          31469,
          34943,
          35350,
          38330,
          39235,
          35859,
          37901,
          39561,
          42903,
          43777
         ],
         "yaxis": "y"
        },
        {
         "alignmentgroup": "True",
         "hovertemplate": "Type of good=Goods moved in the course of household and office removals; baggage and articles accompanying travellers; motor vehicles being moved for repair; other non market goods n.e.c.<br>Year=%{x}<br>Amount=%{y}<extra></extra>",
         "legendgroup": "Goods moved in the course of household and office removals; baggage and articles accompanying travellers; motor vehicles being moved for repair; other non market goods n.e.c.",
         "marker": {
          "color": "#FF6692",
          "pattern": {
           "shape": ""
          }
         },
         "name": "Goods moved in the course of household and office removals; baggage and articles accompanying travellers; motor vehicles being moved for repair; other non market goods n.e.c.",
         "offsetgroup": "Goods moved in the course of household and office removals; baggage and articles accompanying travellers; motor vehicles being moved for repair; other non market goods n.e.c.",
         "orientation": "v",
         "showlegend": true,
         "textposition": "auto",
         "type": "bar",
         "x": [
          2008,
          2009,
          2010,
          2011,
          2012,
          2013,
          2014,
          2015,
          2016,
          2017,
          2018,
          2019,
          2020,
          2021,
          2022
         ],
         "xaxis": "x",
         "y": [
          9816,
          10436,
          547,
          434,
          400,
          485,
          463,
          680,
          527,
          560,
          571,
          755,
          531,
          593,
          443
         ],
         "yaxis": "y"
        },
        {
         "alignmentgroup": "True",
         "hovertemplate": "Type of good=Grouped goods0 a mixture of types of goods which are transported together<br>Year=%{x}<br>Amount=%{y}<extra></extra>",
         "legendgroup": "Grouped goods0 a mixture of types of goods which are transported together",
         "marker": {
          "color": "#B6E880",
          "pattern": {
           "shape": ""
          }
         },
         "name": "Grouped goods0 a mixture of types of goods which are transported together",
         "offsetgroup": "Grouped goods0 a mixture of types of goods which are transported together",
         "orientation": "v",
         "showlegend": true,
         "textposition": "auto",
         "type": "bar",
         "x": [
          2008,
          2009,
          2010,
          2011,
          2012,
          2013,
          2014,
          2015,
          2016,
          2017,
          2018,
          2019,
          2020,
          2021,
          2022
         ],
         "xaxis": "x",
         "y": [
          51823,
          46191,
          57374,
          50344,
          50001,
          51566,
          53705,
          46621,
          48399,
          55520,
          66832,
          65168,
          64955,
          66635,
          70643
         ],
         "yaxis": "y"
        },
        {
         "alignmentgroup": "True",
         "hovertemplate": "Type of good=Unidentifiable goods0 goods which for any reason cannot be identified<br>Year=%{x}<br>Amount=%{y}<extra></extra>",
         "legendgroup": "Unidentifiable goods0 goods which for any reason cannot be identified",
         "marker": {
          "color": "#FF97FF",
          "pattern": {
           "shape": ""
          }
         },
         "name": "Unidentifiable goods0 goods which for any reason cannot be identified",
         "offsetgroup": "Unidentifiable goods0 goods which for any reason cannot be identified",
         "orientation": "v",
         "showlegend": true,
         "textposition": "auto",
         "type": "bar",
         "x": [
          2008,
          2009,
          2010,
          2011,
          2012,
          2013,
          2014,
          2015,
          2016,
          2017,
          2018,
          2019,
          2020,
          2021,
          2022
         ],
         "xaxis": "x",
         "y": [
          985,
          863,
          17930,
          22110,
          13275,
          18507,
          11938,
          16231,
          13705,
          11230,
          10980,
          11842,
          11816,
          6883,
          11350
         ],
         "yaxis": "y"
        },
        {
         "alignmentgroup": "True",
         "hovertemplate": "Type of good=Other goods n.e.c.<br>Year=%{x}<br>Amount=%{y}<extra></extra>",
         "legendgroup": "Other goods n.e.c.",
         "marker": {
          "color": "#FECB52",
          "pattern": {
           "shape": ""
          }
         },
         "name": "Other goods n.e.c.",
         "offsetgroup": "Other goods n.e.c.",
         "orientation": "v",
         "showlegend": true,
         "textposition": "auto",
         "type": "bar",
         "x": [
          2008,
          2009,
          2010,
          2011,
          2012,
          2013,
          2014,
          2015,
          2016,
          2017,
          2018,
          2019,
          2020,
          2021,
          2022
         ],
         "xaxis": "x",
         "y": [
          8123,
          6372,
          0,
          0,
          0,
          5,
          4,
          16,
          0,
          0,
          0,
          0,
          0,
          0,
          0
         ],
         "yaxis": "y"
        }
       ],
       "layout": {
        "barmode": "relative",
        "height": 800,
        "legend": {
         "title": {
          "text": "Type of good"
         },
         "tracegroupgap": 0
        },
        "template": {
         "data": {
          "bar": [
           {
            "error_x": {
             "color": "#2a3f5f"
            },
            "error_y": {
             "color": "#2a3f5f"
            },
            "marker": {
             "line": {
              "color": "#E5ECF6",
              "width": 0.5
             },
             "pattern": {
              "fillmode": "overlay",
              "size": 10,
              "solidity": 0.2
             }
            },
            "type": "bar"
           }
          ],
          "barpolar": [
           {
            "marker": {
             "line": {
              "color": "#E5ECF6",
              "width": 0.5
             },
             "pattern": {
              "fillmode": "overlay",
              "size": 10,
              "solidity": 0.2
             }
            },
            "type": "barpolar"
           }
          ],
          "carpet": [
           {
            "aaxis": {
             "endlinecolor": "#2a3f5f",
             "gridcolor": "white",
             "linecolor": "white",
             "minorgridcolor": "white",
             "startlinecolor": "#2a3f5f"
            },
            "baxis": {
             "endlinecolor": "#2a3f5f",
             "gridcolor": "white",
             "linecolor": "white",
             "minorgridcolor": "white",
             "startlinecolor": "#2a3f5f"
            },
            "type": "carpet"
           }
          ],
          "choropleth": [
           {
            "colorbar": {
             "outlinewidth": 0,
             "ticks": ""
            },
            "type": "choropleth"
           }
          ],
          "contour": [
           {
            "colorbar": {
             "outlinewidth": 0,
             "ticks": ""
            },
            "colorscale": [
             [
              0,
              "#0d0887"
             ],
             [
              0.1111111111111111,
              "#46039f"
             ],
             [
              0.2222222222222222,
              "#7201a8"
             ],
             [
              0.3333333333333333,
              "#9c179e"
             ],
             [
              0.4444444444444444,
              "#bd3786"
             ],
             [
              0.5555555555555556,
              "#d8576b"
             ],
             [
              0.6666666666666666,
              "#ed7953"
             ],
             [
              0.7777777777777778,
              "#fb9f3a"
             ],
             [
              0.8888888888888888,
              "#fdca26"
             ],
             [
              1,
              "#f0f921"
             ]
            ],
            "type": "contour"
           }
          ],
          "contourcarpet": [
           {
            "colorbar": {
             "outlinewidth": 0,
             "ticks": ""
            },
            "type": "contourcarpet"
           }
          ],
          "heatmap": [
           {
            "colorbar": {
             "outlinewidth": 0,
             "ticks": ""
            },
            "colorscale": [
             [
              0,
              "#0d0887"
             ],
             [
              0.1111111111111111,
              "#46039f"
             ],
             [
              0.2222222222222222,
              "#7201a8"
             ],
             [
              0.3333333333333333,
              "#9c179e"
             ],
             [
              0.4444444444444444,
              "#bd3786"
             ],
             [
              0.5555555555555556,
              "#d8576b"
             ],
             [
              0.6666666666666666,
              "#ed7953"
             ],
             [
              0.7777777777777778,
              "#fb9f3a"
             ],
             [
              0.8888888888888888,
              "#fdca26"
             ],
             [
              1,
              "#f0f921"
             ]
            ],
            "type": "heatmap"
           }
          ],
          "heatmapgl": [
           {
            "colorbar": {
             "outlinewidth": 0,
             "ticks": ""
            },
            "colorscale": [
             [
              0,
              "#0d0887"
             ],
             [
              0.1111111111111111,
              "#46039f"
             ],
             [
              0.2222222222222222,
              "#7201a8"
             ],
             [
              0.3333333333333333,
              "#9c179e"
             ],
             [
              0.4444444444444444,
              "#bd3786"
             ],
             [
              0.5555555555555556,
              "#d8576b"
             ],
             [
              0.6666666666666666,
              "#ed7953"
             ],
             [
              0.7777777777777778,
              "#fb9f3a"
             ],
             [
              0.8888888888888888,
              "#fdca26"
             ],
             [
              1,
              "#f0f921"
             ]
            ],
            "type": "heatmapgl"
           }
          ],
          "histogram": [
           {
            "marker": {
             "pattern": {
              "fillmode": "overlay",
              "size": 10,
              "solidity": 0.2
             }
            },
            "type": "histogram"
           }
          ],
          "histogram2d": [
           {
            "colorbar": {
             "outlinewidth": 0,
             "ticks": ""
            },
            "colorscale": [
             [
              0,
              "#0d0887"
             ],
             [
              0.1111111111111111,
              "#46039f"
             ],
             [
              0.2222222222222222,
              "#7201a8"
             ],
             [
              0.3333333333333333,
              "#9c179e"
             ],
             [
              0.4444444444444444,
              "#bd3786"
             ],
             [
              0.5555555555555556,
              "#d8576b"
             ],
             [
              0.6666666666666666,
              "#ed7953"
             ],
             [
              0.7777777777777778,
              "#fb9f3a"
             ],
             [
              0.8888888888888888,
              "#fdca26"
             ],
             [
              1,
              "#f0f921"
             ]
            ],
            "type": "histogram2d"
           }
          ],
          "histogram2dcontour": [
           {
            "colorbar": {
             "outlinewidth": 0,
             "ticks": ""
            },
            "colorscale": [
             [
              0,
              "#0d0887"
             ],
             [
              0.1111111111111111,
              "#46039f"
             ],
             [
              0.2222222222222222,
              "#7201a8"
             ],
             [
              0.3333333333333333,
              "#9c179e"
             ],
             [
              0.4444444444444444,
              "#bd3786"
             ],
             [
              0.5555555555555556,
              "#d8576b"
             ],
             [
              0.6666666666666666,
              "#ed7953"
             ],
             [
              0.7777777777777778,
              "#fb9f3a"
             ],
             [
              0.8888888888888888,
              "#fdca26"
             ],
             [
              1,
              "#f0f921"
             ]
            ],
            "type": "histogram2dcontour"
           }
          ],
          "mesh3d": [
           {
            "colorbar": {
             "outlinewidth": 0,
             "ticks": ""
            },
            "type": "mesh3d"
           }
          ],
          "parcoords": [
           {
            "line": {
             "colorbar": {
              "outlinewidth": 0,
              "ticks": ""
             }
            },
            "type": "parcoords"
           }
          ],
          "pie": [
           {
            "automargin": true,
            "type": "pie"
           }
          ],
          "scatter": [
           {
            "fillpattern": {
             "fillmode": "overlay",
             "size": 10,
             "solidity": 0.2
            },
            "type": "scatter"
           }
          ],
          "scatter3d": [
           {
            "line": {
             "colorbar": {
              "outlinewidth": 0,
              "ticks": ""
             }
            },
            "marker": {
             "colorbar": {
              "outlinewidth": 0,
              "ticks": ""
             }
            },
            "type": "scatter3d"
           }
          ],
          "scattercarpet": [
           {
            "marker": {
             "colorbar": {
              "outlinewidth": 0,
              "ticks": ""
             }
            },
            "type": "scattercarpet"
           }
          ],
          "scattergeo": [
           {
            "marker": {
             "colorbar": {
              "outlinewidth": 0,
              "ticks": ""
             }
            },
            "type": "scattergeo"
           }
          ],
          "scattergl": [
           {
            "marker": {
             "colorbar": {
              "outlinewidth": 0,
              "ticks": ""
             }
            },
            "type": "scattergl"
           }
          ],
          "scattermapbox": [
           {
            "marker": {
             "colorbar": {
              "outlinewidth": 0,
              "ticks": ""
             }
            },
            "type": "scattermapbox"
           }
          ],
          "scatterpolar": [
           {
            "marker": {
             "colorbar": {
              "outlinewidth": 0,
              "ticks": ""
             }
            },
            "type": "scatterpolar"
           }
          ],
          "scatterpolargl": [
           {
            "marker": {
             "colorbar": {
              "outlinewidth": 0,
              "ticks": ""
             }
            },
            "type": "scatterpolargl"
           }
          ],
          "scatterternary": [
           {
            "marker": {
             "colorbar": {
              "outlinewidth": 0,
              "ticks": ""
             }
            },
            "type": "scatterternary"
           }
          ],
          "surface": [
           {
            "colorbar": {
             "outlinewidth": 0,
             "ticks": ""
            },
            "colorscale": [
             [
              0,
              "#0d0887"
             ],
             [
              0.1111111111111111,
              "#46039f"
             ],
             [
              0.2222222222222222,
              "#7201a8"
             ],
             [
              0.3333333333333333,
              "#9c179e"
             ],
             [
              0.4444444444444444,
              "#bd3786"
             ],
             [
              0.5555555555555556,
              "#d8576b"
             ],
             [
              0.6666666666666666,
              "#ed7953"
             ],
             [
              0.7777777777777778,
              "#fb9f3a"
             ],
             [
              0.8888888888888888,
              "#fdca26"
             ],
             [
              1,
              "#f0f921"
             ]
            ],
            "type": "surface"
           }
          ],
          "table": [
           {
            "cells": {
             "fill": {
              "color": "#EBF0F8"
             },
             "line": {
              "color": "white"
             }
            },
            "header": {
             "fill": {
              "color": "#C8D4E3"
             },
             "line": {
              "color": "white"
             }
            },
            "type": "table"
           }
          ]
         },
         "layout": {
          "annotationdefaults": {
           "arrowcolor": "#2a3f5f",
           "arrowhead": 0,
           "arrowwidth": 1
          },
          "autotypenumbers": "strict",
          "coloraxis": {
           "colorbar": {
            "outlinewidth": 0,
            "ticks": ""
           }
          },
          "colorscale": {
           "diverging": [
            [
             0,
             "#8e0152"
            ],
            [
             0.1,
             "#c51b7d"
            ],
            [
             0.2,
             "#de77ae"
            ],
            [
             0.3,
             "#f1b6da"
            ],
            [
             0.4,
             "#fde0ef"
            ],
            [
             0.5,
             "#f7f7f7"
            ],
            [
             0.6,
             "#e6f5d0"
            ],
            [
             0.7,
             "#b8e186"
            ],
            [
             0.8,
             "#7fbc41"
            ],
            [
             0.9,
             "#4d9221"
            ],
            [
             1,
             "#276419"
            ]
           ],
           "sequential": [
            [
             0,
             "#0d0887"
            ],
            [
             0.1111111111111111,
             "#46039f"
            ],
            [
             0.2222222222222222,
             "#7201a8"
            ],
            [
             0.3333333333333333,
             "#9c179e"
            ],
            [
             0.4444444444444444,
             "#bd3786"
            ],
            [
             0.5555555555555556,
             "#d8576b"
            ],
            [
             0.6666666666666666,
             "#ed7953"
            ],
            [
             0.7777777777777778,
             "#fb9f3a"
            ],
            [
             0.8888888888888888,
             "#fdca26"
            ],
            [
             1,
             "#f0f921"
            ]
           ],
           "sequentialminus": [
            [
             0,
             "#0d0887"
            ],
            [
             0.1111111111111111,
             "#46039f"
            ],
            [
             0.2222222222222222,
             "#7201a8"
            ],
            [
             0.3333333333333333,
             "#9c179e"
            ],
            [
             0.4444444444444444,
             "#bd3786"
            ],
            [
             0.5555555555555556,
             "#d8576b"
            ],
            [
             0.6666666666666666,
             "#ed7953"
            ],
            [
             0.7777777777777778,
             "#fb9f3a"
            ],
            [
             0.8888888888888888,
             "#fdca26"
            ],
            [
             1,
             "#f0f921"
            ]
           ]
          },
          "colorway": [
           "#636efa",
           "#EF553B",
           "#00cc96",
           "#ab63fa",
           "#FFA15A",
           "#19d3f3",
           "#FF6692",
           "#B6E880",
           "#FF97FF",
           "#FECB52"
          ],
          "font": {
           "color": "#2a3f5f"
          },
          "geo": {
           "bgcolor": "white",
           "lakecolor": "white",
           "landcolor": "#E5ECF6",
           "showlakes": true,
           "showland": true,
           "subunitcolor": "white"
          },
          "hoverlabel": {
           "align": "left"
          },
          "hovermode": "closest",
          "mapbox": {
           "style": "light"
          },
          "paper_bgcolor": "white",
          "plot_bgcolor": "#E5ECF6",
          "polar": {
           "angularaxis": {
            "gridcolor": "white",
            "linecolor": "white",
            "ticks": ""
           },
           "bgcolor": "#E5ECF6",
           "radialaxis": {
            "gridcolor": "white",
            "linecolor": "white",
            "ticks": ""
           }
          },
          "scene": {
           "xaxis": {
            "backgroundcolor": "#E5ECF6",
            "gridcolor": "white",
            "gridwidth": 2,
            "linecolor": "white",
            "showbackground": true,
            "ticks": "",
            "zerolinecolor": "white"
           },
           "yaxis": {
            "backgroundcolor": "#E5ECF6",
            "gridcolor": "white",
            "gridwidth": 2,
            "linecolor": "white",
            "showbackground": true,
            "ticks": "",
            "zerolinecolor": "white"
           },
           "zaxis": {
            "backgroundcolor": "#E5ECF6",
            "gridcolor": "white",
            "gridwidth": 2,
            "linecolor": "white",
            "showbackground": true,
            "ticks": "",
            "zerolinecolor": "white"
           }
          },
          "shapedefaults": {
           "line": {
            "color": "#2a3f5f"
           }
          },
          "ternary": {
           "aaxis": {
            "gridcolor": "white",
            "linecolor": "white",
            "ticks": ""
           },
           "baxis": {
            "gridcolor": "white",
            "linecolor": "white",
            "ticks": ""
           },
           "bgcolor": "#E5ECF6",
           "caxis": {
            "gridcolor": "white",
            "linecolor": "white",
            "ticks": ""
           }
          },
          "title": {
           "x": 0.05
          },
          "xaxis": {
           "automargin": true,
           "gridcolor": "white",
           "linecolor": "white",
           "ticks": "",
           "title": {
            "standoff": 15
           },
           "zerolinecolor": "white",
           "zerolinewidth": 2
          },
          "yaxis": {
           "automargin": true,
           "gridcolor": "white",
           "linecolor": "white",
           "ticks": "",
           "title": {
            "standoff": 15
           },
           "zerolinecolor": "white",
           "zerolinewidth": 2
          }
         }
        },
        "title": {
         "text": "Freight movement by Road",
         "x": 0.3,
         "y": 0.95
        },
        "width": 2300,
        "xaxis": {
         "anchor": "y",
         "domain": [
          0,
          1
         ],
         "title": {
          "text": "Year"
         }
        },
        "yaxis": {
         "anchor": "x",
         "domain": [
          0,
          1
         ],
         "title": {
          "text": "Amount"
         }
        }
       }
      },
      "text/html": [
       "<div>                            <div id=\"a1061283-fa90-4b35-8ba0-7f778c7bb8d6\" class=\"plotly-graph-div\" style=\"height:800px; width:2300px;\"></div>            <script type=\"text/javascript\">                require([\"plotly\"], function(Plotly) {                    window.PLOTLYENV=window.PLOTLYENV || {};                                    if (document.getElementById(\"a1061283-fa90-4b35-8ba0-7f778c7bb8d6\")) {                    Plotly.newPlot(                        \"a1061283-fa90-4b35-8ba0-7f778c7bb8d6\",                        [{\"alignmentgroup\":\"True\",\"hovertemplate\":\"Type of good=Products of agriculture, hunting, and forestry; fish and other fishing products\\u003cbr\\u003eYear=%{x}\\u003cbr\\u003eAmount=%{y}\\u003cextra\\u003e\\u003c\\u002fextra\\u003e\",\"legendgroup\":\"Products of agriculture, hunting, and forestry; fish and other fishing products\",\"marker\":{\"color\":\"#636efa\",\"pattern\":{\"shape\":\"\"}},\"name\":\"Products of agriculture, hunting, and forestry; fish and other fishing products\",\"offsetgroup\":\"Products of agriculture, hunting, and forestry; fish and other fishing products\",\"orientation\":\"v\",\"showlegend\":true,\"textposition\":\"auto\",\"x\":[2008,2009,2010,2011,2012,2013,2014,2015,2016,2017,2018,2019,2020,2021,2022],\"xaxis\":\"x\",\"y\":[53262.0,61042.0,60681.0,60575.0,60537.0,59765.0,62045.0,57714.0,61416.0,57400.0,60918.0,61832.0,66636.0,69045.0,59789.0],\"yaxis\":\"y\",\"type\":\"bar\"},{\"alignmentgroup\":\"True\",\"hovertemplate\":\"Type of good=Coal and lignite; crude petroleum and natural gas\\u003cbr\\u003eYear=%{x}\\u003cbr\\u003eAmount=%{y}\\u003cextra\\u003e\\u003c\\u002fextra\\u003e\",\"legendgroup\":\"Coal and lignite; crude petroleum and natural gas\",\"marker\":{\"color\":\"#EF553B\",\"pattern\":{\"shape\":\"\"}},\"name\":\"Coal and lignite; crude petroleum and natural gas\",\"offsetgroup\":\"Coal and lignite; crude petroleum and natural gas\",\"orientation\":\"v\",\"showlegend\":true,\"textposition\":\"auto\",\"x\":[2008,2009,2010,2011,2012,2013,2014,2015,2016,2017,2018,2019,2020,2021,2022],\"xaxis\":\"x\",\"y\":[238.0,253.0,319.0,187.0,199.0,311.0,149.0,293.0,661.0,72.0,308.0,416.0,518.0,198.0,506.0],\"yaxis\":\"y\",\"type\":\"bar\"},{\"alignmentgroup\":\"True\",\"hovertemplate\":\"Type of good=Metal ores and other mining and quarrying products; peat; uranium and thorium\\u003cbr\\u003eYear=%{x}\\u003cbr\\u003eAmount=%{y}\\u003cextra\\u003e\\u003c\\u002fextra\\u003e\",\"legendgroup\":\"Metal ores and other mining and quarrying products; peat; uranium and thorium\",\"marker\":{\"color\":\"#00cc96\",\"pattern\":{\"shape\":\"\"}},\"name\":\"Metal ores and other mining and quarrying products; peat; uranium and thorium\",\"offsetgroup\":\"Metal ores and other mining and quarrying products; peat; uranium and thorium\",\"orientation\":\"v\",\"showlegend\":true,\"textposition\":\"auto\",\"x\":[2008,2009,2010,2011,2012,2013,2014,2015,2016,2017,2018,2019,2020,2021,2022],\"xaxis\":\"x\",\"y\":[108030.0,111394.0,89415.0,93053.0,93022.0,84759.0,91680.0,90379.0,93043.0,92264.0,97373.0,93583.0,100138.0,99622.0,92578.0],\"yaxis\":\"y\",\"type\":\"bar\"},{\"alignmentgroup\":\"True\",\"hovertemplate\":\"Type of good=Food products, beverages and tobacco\\u003cbr\\u003eYear=%{x}\\u003cbr\\u003eAmount=%{y}\\u003cextra\\u003e\\u003c\\u002fextra\\u003e\",\"legendgroup\":\"Food products, beverages and tobacco\",\"marker\":{\"color\":\"#ab63fa\",\"pattern\":{\"shape\":\"\"}},\"name\":\"Food products, beverages and tobacco\",\"offsetgroup\":\"Food products, beverages and tobacco\",\"orientation\":\"v\",\"showlegend\":true,\"textposition\":\"auto\",\"x\":[2008,2009,2010,2011,2012,2013,2014,2015,2016,2017,2018,2019,2020,2021,2022],\"xaxis\":\"x\",\"y\":[92962.0,94167.0,117372.0,121654.0,122375.0,113171.0,115360.0,124106.0,126420.0,128539.0,124811.0,130810.0,129793.0,134873.0,142762.0],\"yaxis\":\"y\",\"type\":\"bar\"},{\"alignmentgroup\":\"True\",\"hovertemplate\":\"Type of good=Textiles and textile products; leather and leather products\\u003cbr\\u003eYear=%{x}\\u003cbr\\u003eAmount=%{y}\\u003cextra\\u003e\\u003c\\u002fextra\\u003e\",\"legendgroup\":\"Textiles and textile products; leather and leather products\",\"marker\":{\"color\":\"#FFA15A\",\"pattern\":{\"shape\":\"\"}},\"name\":\"Textiles and textile products; leather and leather products\",\"offsetgroup\":\"Textiles and textile products; leather and leather products\",\"orientation\":\"v\",\"showlegend\":true,\"textposition\":\"auto\",\"x\":[2008,2009,2010,2011,2012,2013,2014,2015,2016,2017,2018,2019,2020,2021,2022],\"xaxis\":\"x\",\"y\":[3961.0,3829.0,5445.0,5147.0,4582.0,4797.0,4415.0,4158.0,4181.0,3789.0,3690.0,5160.0,3993.0,3931.0,3852.0],\"yaxis\":\"y\",\"type\":\"bar\"},{\"alignmentgroup\":\"True\",\"hovertemplate\":\"Type of good=Wood and products\\u003cbr\\u003eYear=%{x}\\u003cbr\\u003eAmount=%{y}\\u003cextra\\u003e\\u003c\\u002fextra\\u003e\",\"legendgroup\":\"Wood and products\",\"marker\":{\"color\":\"#19d3f3\",\"pattern\":{\"shape\":\"\"}},\"name\":\"Wood and products\",\"offsetgroup\":\"Wood and products\",\"orientation\":\"v\",\"showlegend\":true,\"textposition\":\"auto\",\"x\":[2008,2009,2010,2011,2012,2013,2014,2015,2016,2017,2018,2019,2020,2021,2022],\"xaxis\":\"x\",\"y\":[28218.0,24190.0,27316.0,26879.0,24747.0,25536.0,26635.0,26720.0,24371.0,24285.0,23962.0,24373.0,24775.0,27893.0,23152.0],\"yaxis\":\"y\",\"type\":\"bar\"},{\"alignmentgroup\":\"True\",\"hovertemplate\":\"Type of good=Coke and refined petroleum products\\u003cbr\\u003eYear=%{x}\\u003cbr\\u003eAmount=%{y}\\u003cextra\\u003e\\u003c\\u002fextra\\u003e\",\"legendgroup\":\"Coke and refined petroleum products\",\"marker\":{\"color\":\"#FF6692\",\"pattern\":{\"shape\":\"\"}},\"name\":\"Coke and refined petroleum products\",\"offsetgroup\":\"Coke and refined petroleum products\",\"orientation\":\"v\",\"showlegend\":true,\"textposition\":\"auto\",\"x\":[2008,2009,2010,2011,2012,2013,2014,2015,2016,2017,2018,2019,2020,2021,2022],\"xaxis\":\"x\",\"y\":[7825.0,10258.0,20957.0,15712.0,13533.0,12451.0,10964.0,9195.0,9384.0,10022.0,9950.0,9841.0,9401.0,8884.0,8720.0],\"yaxis\":\"y\",\"type\":\"bar\"},{\"alignmentgroup\":\"True\",\"hovertemplate\":\"Type of good=Chemicals, chemical products, and man-made fibers; rubber and plastic products ; nuclear fuel\\u003cbr\\u003eYear=%{x}\\u003cbr\\u003eAmount=%{y}\\u003cextra\\u003e\\u003c\\u002fextra\\u003e\",\"legendgroup\":\"Chemicals, chemical products, and man-made fibers; rubber and plastic products ; nuclear fuel\",\"marker\":{\"color\":\"#B6E880\",\"pattern\":{\"shape\":\"\"}},\"name\":\"Chemicals, chemical products, and man-made fibers; rubber and plastic products ; nuclear fuel\",\"offsetgroup\":\"Chemicals, chemical products, and man-made fibers; rubber and plastic products ; nuclear fuel\",\"orientation\":\"v\",\"showlegend\":true,\"textposition\":\"auto\",\"x\":[2008,2009,2010,2011,2012,2013,2014,2015,2016,2017,2018,2019,2020,2021,2022],\"xaxis\":\"x\",\"y\":[48535.0,54903.0,59271.0,61258.0,65568.0,59472.0,57261.0,60920.0,61292.0,66774.0,65743.0,64506.0,64878.0,61769.0,62305.0],\"yaxis\":\"y\",\"type\":\"bar\"},{\"alignmentgroup\":\"True\",\"hovertemplate\":\"Type of good=Other non metallic mineral products\\u003cbr\\u003eYear=%{x}\\u003cbr\\u003eAmount=%{y}\\u003cextra\\u003e\\u003c\\u002fextra\\u003e\",\"legendgroup\":\"Other non metallic mineral products\",\"marker\":{\"color\":\"#FF97FF\",\"pattern\":{\"shape\":\"\"}},\"name\":\"Other non metallic mineral products\",\"offsetgroup\":\"Other non metallic mineral products\",\"orientation\":\"v\",\"showlegend\":true,\"textposition\":\"auto\",\"x\":[2008,2009,2010,2011,2012,2013,2014,2015,2016,2017,2018,2019,2020,2021,2022],\"xaxis\":\"x\",\"y\":[96883.0,94773.0,70153.0,72395.0,54654.0,66010.0,60728.0,60686.0,62077.0,68852.0,70898.0,75480.0,69203.0,68295.0,75980.0],\"yaxis\":\"y\",\"type\":\"bar\"},{\"alignmentgroup\":\"True\",\"hovertemplate\":\"Type of good=Basic metals; fabricated metal products, except machinery and equipment\\u003cbr\\u003eYear=%{x}\\u003cbr\\u003eAmount=%{y}\\u003cextra\\u003e\\u003c\\u002fextra\\u003e\",\"legendgroup\":\"Basic metals; fabricated metal products, except machinery and equipment\",\"marker\":{\"color\":\"#FECB52\",\"pattern\":{\"shape\":\"\"}},\"name\":\"Basic metals; fabricated metal products, except machinery and equipment\",\"offsetgroup\":\"Basic metals; fabricated metal products, except machinery and equipment\",\"orientation\":\"v\",\"showlegend\":true,\"textposition\":\"auto\",\"x\":[2008,2009,2010,2011,2012,2013,2014,2015,2016,2017,2018,2019,2020,2021,2022],\"xaxis\":\"x\",\"y\":[30167.0,25759.0,28521.0,30068.0,26983.0,26950.0,27542.0,24904.0,25097.0,24397.0,26202.0,22845.0,21734.0,24612.0,21995.0],\"yaxis\":\"y\",\"type\":\"bar\"},{\"alignmentgroup\":\"True\",\"hovertemplate\":\"Type of good=Machinery and equipment\\u003cbr\\u003eYear=%{x}\\u003cbr\\u003eAmount=%{y}\\u003cextra\\u003e\\u003c\\u002fextra\\u003e\",\"legendgroup\":\"Machinery and equipment\",\"marker\":{\"color\":\"#636efa\",\"pattern\":{\"shape\":\"\"}},\"name\":\"Machinery and equipment\",\"offsetgroup\":\"Machinery and equipment\",\"orientation\":\"v\",\"showlegend\":true,\"textposition\":\"auto\",\"x\":[2008,2009,2010,2011,2012,2013,2014,2015,2016,2017,2018,2019,2020,2021,2022],\"xaxis\":\"x\",\"y\":[20464.0,18687.0,23491.0,24408.0,23494.0,26373.0,23998.0,24934.0,26231.0,26918.0,25652.0,28421.0,26461.0,29775.0,28971.0],\"yaxis\":\"y\",\"type\":\"bar\"},{\"alignmentgroup\":\"True\",\"hovertemplate\":\"Type of good=Transport equipment\\u003cbr\\u003eYear=%{x}\\u003cbr\\u003eAmount=%{y}\\u003cextra\\u003e\\u003c\\u002fextra\\u003e\",\"legendgroup\":\"Transport equipment\",\"marker\":{\"color\":\"#EF553B\",\"pattern\":{\"shape\":\"\"}},\"name\":\"Transport equipment\",\"offsetgroup\":\"Transport equipment\",\"orientation\":\"v\",\"showlegend\":true,\"textposition\":\"auto\",\"x\":[2008,2009,2010,2011,2012,2013,2014,2015,2016,2017,2018,2019,2020,2021,2022],\"xaxis\":\"x\",\"y\":[15474.0,11620.0,9920.0,10506.0,8800.0,9434.0,8554.0,8514.0,9983.0,8600.0,9269.0,8088.0,7727.0,9078.0,6653.0],\"yaxis\":\"y\",\"type\":\"bar\"},{\"alignmentgroup\":\"True\",\"hovertemplate\":\"Type of good=Furniture\\u003cbr\\u003eYear=%{x}\\u003cbr\\u003eAmount=%{y}\\u003cextra\\u003e\\u003c\\u002fextra\\u003e\",\"legendgroup\":\"Furniture\",\"marker\":{\"color\":\"#00cc96\",\"pattern\":{\"shape\":\"\"}},\"name\":\"Furniture\",\"offsetgroup\":\"Furniture\",\"orientation\":\"v\",\"showlegend\":true,\"textposition\":\"auto\",\"x\":[2008,2009,2010,2011,2012,2013,2014,2015,2016,2017,2018,2019,2020,2021,2022],\"xaxis\":\"x\",\"y\":[2493.0,2269.0,3116.0,3275.0,3304.0,2304.0,2433.0,3336.0,3772.0,2443.0,3205.0,3565.0,2900.0,3073.0,2885.0],\"yaxis\":\"y\",\"type\":\"bar\"},{\"alignmentgroup\":\"True\",\"hovertemplate\":\"Type of good=Secondary raw materials\\u003cbr\\u003eYear=%{x}\\u003cbr\\u003eAmount=%{y}\\u003cextra\\u003e\\u003c\\u002fextra\\u003e\",\"legendgroup\":\"Secondary raw materials\",\"marker\":{\"color\":\"#ab63fa\",\"pattern\":{\"shape\":\"\"}},\"name\":\"Secondary raw materials\",\"offsetgroup\":\"Secondary raw materials\",\"orientation\":\"v\",\"showlegend\":true,\"textposition\":\"auto\",\"x\":[2008,2009,2010,2011,2012,2013,2014,2015,2016,2017,2018,2019,2020,2021,2022],\"xaxis\":\"x\",\"y\":[23517.0,23466.0,47804.0,40591.0,39706.0,46647.0,44204.0,43941.0,44352.0,42317.0,40059.0,40452.0,34827.0,38055.0,32236.0],\"yaxis\":\"y\",\"type\":\"bar\"},{\"alignmentgroup\":\"True\",\"hovertemplate\":\"Type of good=Mail, parcels\\u003cbr\\u003eYear=%{x}\\u003cbr\\u003eAmount=%{y}\\u003cextra\\u003e\\u003c\\u002fextra\\u003e\",\"legendgroup\":\"Mail, parcels\",\"marker\":{\"color\":\"#FFA15A\",\"pattern\":{\"shape\":\"\"}},\"name\":\"Mail, parcels\",\"offsetgroup\":\"Mail, parcels\",\"orientation\":\"v\",\"showlegend\":true,\"textposition\":\"auto\",\"x\":[2008,2009,2010,2011,2012,2013,2014,2015,2016,2017,2018,2019,2020,2021,2022],\"xaxis\":\"x\",\"y\":[0.0,0.0,792.0,1022.0,8589.0,2224.0,2996.0,3174.0,3320.0,2950.0,3902.0,3959.0,4643.0,6044.0,6513.0],\"yaxis\":\"y\",\"type\":\"bar\"},{\"alignmentgroup\":\"True\",\"hovertemplate\":\"Type of good=Equipment and material utilized in the transport of goods\\u003cbr\\u003eYear=%{x}\\u003cbr\\u003eAmount=%{y}\\u003cextra\\u003e\\u003c\\u002fextra\\u003e\",\"legendgroup\":\"Equipment and material utilized in the transport of goods\",\"marker\":{\"color\":\"#19d3f3\",\"pattern\":{\"shape\":\"\"}},\"name\":\"Equipment and material utilized in the transport of goods\",\"offsetgroup\":\"Equipment and material utilized in the transport of goods\",\"orientation\":\"v\",\"showlegend\":true,\"textposition\":\"auto\",\"x\":[2008,2009,2010,2011,2012,2013,2014,2015,2016,2017,2018,2019,2020,2021,2022],\"xaxis\":\"x\",\"y\":[18513.0,16433.0,17451.0,18414.0,18130.0,31469.0,34943.0,35350.0,38330.0,39235.0,35859.0,37901.0,39561.0,42903.0,43777.0],\"yaxis\":\"y\",\"type\":\"bar\"},{\"alignmentgroup\":\"True\",\"hovertemplate\":\"Type of good=Goods moved in the course of household and office removals; baggage and articles accompanying travellers; motor vehicles being moved for repair; other non market goods n.e.c.\\u003cbr\\u003eYear=%{x}\\u003cbr\\u003eAmount=%{y}\\u003cextra\\u003e\\u003c\\u002fextra\\u003e\",\"legendgroup\":\"Goods moved in the course of household and office removals; baggage and articles accompanying travellers; motor vehicles being moved for repair; other non market goods n.e.c.\",\"marker\":{\"color\":\"#FF6692\",\"pattern\":{\"shape\":\"\"}},\"name\":\"Goods moved in the course of household and office removals; baggage and articles accompanying travellers; motor vehicles being moved for repair; other non market goods n.e.c.\",\"offsetgroup\":\"Goods moved in the course of household and office removals; baggage and articles accompanying travellers; motor vehicles being moved for repair; other non market goods n.e.c.\",\"orientation\":\"v\",\"showlegend\":true,\"textposition\":\"auto\",\"x\":[2008,2009,2010,2011,2012,2013,2014,2015,2016,2017,2018,2019,2020,2021,2022],\"xaxis\":\"x\",\"y\":[9816.0,10436.0,547.0,434.0,400.0,485.0,463.0,680.0,527.0,560.0,571.0,755.0,531.0,593.0,443.0],\"yaxis\":\"y\",\"type\":\"bar\"},{\"alignmentgroup\":\"True\",\"hovertemplate\":\"Type of good=Grouped goods0 a mixture of types of goods which are transported together\\u003cbr\\u003eYear=%{x}\\u003cbr\\u003eAmount=%{y}\\u003cextra\\u003e\\u003c\\u002fextra\\u003e\",\"legendgroup\":\"Grouped goods0 a mixture of types of goods which are transported together\",\"marker\":{\"color\":\"#B6E880\",\"pattern\":{\"shape\":\"\"}},\"name\":\"Grouped goods0 a mixture of types of goods which are transported together\",\"offsetgroup\":\"Grouped goods0 a mixture of types of goods which are transported together\",\"orientation\":\"v\",\"showlegend\":true,\"textposition\":\"auto\",\"x\":[2008,2009,2010,2011,2012,2013,2014,2015,2016,2017,2018,2019,2020,2021,2022],\"xaxis\":\"x\",\"y\":[51823.0,46191.0,57374.0,50344.0,50001.0,51566.0,53705.0,46621.0,48399.0,55520.0,66832.0,65168.0,64955.0,66635.0,70643.0],\"yaxis\":\"y\",\"type\":\"bar\"},{\"alignmentgroup\":\"True\",\"hovertemplate\":\"Type of good=Unidentifiable goods0 goods which for any reason cannot be identified\\u003cbr\\u003eYear=%{x}\\u003cbr\\u003eAmount=%{y}\\u003cextra\\u003e\\u003c\\u002fextra\\u003e\",\"legendgroup\":\"Unidentifiable goods0 goods which for any reason cannot be identified\",\"marker\":{\"color\":\"#FF97FF\",\"pattern\":{\"shape\":\"\"}},\"name\":\"Unidentifiable goods0 goods which for any reason cannot be identified\",\"offsetgroup\":\"Unidentifiable goods0 goods which for any reason cannot be identified\",\"orientation\":\"v\",\"showlegend\":true,\"textposition\":\"auto\",\"x\":[2008,2009,2010,2011,2012,2013,2014,2015,2016,2017,2018,2019,2020,2021,2022],\"xaxis\":\"x\",\"y\":[985.0,863.0,17930.0,22110.0,13275.0,18507.0,11938.0,16231.0,13705.0,11230.0,10980.0,11842.0,11816.0,6883.0,11350.0],\"yaxis\":\"y\",\"type\":\"bar\"},{\"alignmentgroup\":\"True\",\"hovertemplate\":\"Type of good=Other goods n.e.c.\\u003cbr\\u003eYear=%{x}\\u003cbr\\u003eAmount=%{y}\\u003cextra\\u003e\\u003c\\u002fextra\\u003e\",\"legendgroup\":\"Other goods n.e.c.\",\"marker\":{\"color\":\"#FECB52\",\"pattern\":{\"shape\":\"\"}},\"name\":\"Other goods n.e.c.\",\"offsetgroup\":\"Other goods n.e.c.\",\"orientation\":\"v\",\"showlegend\":true,\"textposition\":\"auto\",\"x\":[2008,2009,2010,2011,2012,2013,2014,2015,2016,2017,2018,2019,2020,2021,2022],\"xaxis\":\"x\",\"y\":[8123.0,6372.0,0.0,0.0,0.0,5.0,4.0,16.0,0.0,0.0,0.0,0.0,0.0,0.0,0.0],\"yaxis\":\"y\",\"type\":\"bar\"}],                        {\"template\":{\"data\":{\"histogram2dcontour\":[{\"type\":\"histogram2dcontour\",\"colorbar\":{\"outlinewidth\":0,\"ticks\":\"\"},\"colorscale\":[[0.0,\"#0d0887\"],[0.1111111111111111,\"#46039f\"],[0.2222222222222222,\"#7201a8\"],[0.3333333333333333,\"#9c179e\"],[0.4444444444444444,\"#bd3786\"],[0.5555555555555556,\"#d8576b\"],[0.6666666666666666,\"#ed7953\"],[0.7777777777777778,\"#fb9f3a\"],[0.8888888888888888,\"#fdca26\"],[1.0,\"#f0f921\"]]}],\"choropleth\":[{\"type\":\"choropleth\",\"colorbar\":{\"outlinewidth\":0,\"ticks\":\"\"}}],\"histogram2d\":[{\"type\":\"histogram2d\",\"colorbar\":{\"outlinewidth\":0,\"ticks\":\"\"},\"colorscale\":[[0.0,\"#0d0887\"],[0.1111111111111111,\"#46039f\"],[0.2222222222222222,\"#7201a8\"],[0.3333333333333333,\"#9c179e\"],[0.4444444444444444,\"#bd3786\"],[0.5555555555555556,\"#d8576b\"],[0.6666666666666666,\"#ed7953\"],[0.7777777777777778,\"#fb9f3a\"],[0.8888888888888888,\"#fdca26\"],[1.0,\"#f0f921\"]]}],\"heatmap\":[{\"type\":\"heatmap\",\"colorbar\":{\"outlinewidth\":0,\"ticks\":\"\"},\"colorscale\":[[0.0,\"#0d0887\"],[0.1111111111111111,\"#46039f\"],[0.2222222222222222,\"#7201a8\"],[0.3333333333333333,\"#9c179e\"],[0.4444444444444444,\"#bd3786\"],[0.5555555555555556,\"#d8576b\"],[0.6666666666666666,\"#ed7953\"],[0.7777777777777778,\"#fb9f3a\"],[0.8888888888888888,\"#fdca26\"],[1.0,\"#f0f921\"]]}],\"heatmapgl\":[{\"type\":\"heatmapgl\",\"colorbar\":{\"outlinewidth\":0,\"ticks\":\"\"},\"colorscale\":[[0.0,\"#0d0887\"],[0.1111111111111111,\"#46039f\"],[0.2222222222222222,\"#7201a8\"],[0.3333333333333333,\"#9c179e\"],[0.4444444444444444,\"#bd3786\"],[0.5555555555555556,\"#d8576b\"],[0.6666666666666666,\"#ed7953\"],[0.7777777777777778,\"#fb9f3a\"],[0.8888888888888888,\"#fdca26\"],[1.0,\"#f0f921\"]]}],\"contourcarpet\":[{\"type\":\"contourcarpet\",\"colorbar\":{\"outlinewidth\":0,\"ticks\":\"\"}}],\"contour\":[{\"type\":\"contour\",\"colorbar\":{\"outlinewidth\":0,\"ticks\":\"\"},\"colorscale\":[[0.0,\"#0d0887\"],[0.1111111111111111,\"#46039f\"],[0.2222222222222222,\"#7201a8\"],[0.3333333333333333,\"#9c179e\"],[0.4444444444444444,\"#bd3786\"],[0.5555555555555556,\"#d8576b\"],[0.6666666666666666,\"#ed7953\"],[0.7777777777777778,\"#fb9f3a\"],[0.8888888888888888,\"#fdca26\"],[1.0,\"#f0f921\"]]}],\"surface\":[{\"type\":\"surface\",\"colorbar\":{\"outlinewidth\":0,\"ticks\":\"\"},\"colorscale\":[[0.0,\"#0d0887\"],[0.1111111111111111,\"#46039f\"],[0.2222222222222222,\"#7201a8\"],[0.3333333333333333,\"#9c179e\"],[0.4444444444444444,\"#bd3786\"],[0.5555555555555556,\"#d8576b\"],[0.6666666666666666,\"#ed7953\"],[0.7777777777777778,\"#fb9f3a\"],[0.8888888888888888,\"#fdca26\"],[1.0,\"#f0f921\"]]}],\"mesh3d\":[{\"type\":\"mesh3d\",\"colorbar\":{\"outlinewidth\":0,\"ticks\":\"\"}}],\"scatter\":[{\"fillpattern\":{\"fillmode\":\"overlay\",\"size\":10,\"solidity\":0.2},\"type\":\"scatter\"}],\"parcoords\":[{\"type\":\"parcoords\",\"line\":{\"colorbar\":{\"outlinewidth\":0,\"ticks\":\"\"}}}],\"scatterpolargl\":[{\"type\":\"scatterpolargl\",\"marker\":{\"colorbar\":{\"outlinewidth\":0,\"ticks\":\"\"}}}],\"bar\":[{\"error_x\":{\"color\":\"#2a3f5f\"},\"error_y\":{\"color\":\"#2a3f5f\"},\"marker\":{\"line\":{\"color\":\"#E5ECF6\",\"width\":0.5},\"pattern\":{\"fillmode\":\"overlay\",\"size\":10,\"solidity\":0.2}},\"type\":\"bar\"}],\"scattergeo\":[{\"type\":\"scattergeo\",\"marker\":{\"colorbar\":{\"outlinewidth\":0,\"ticks\":\"\"}}}],\"scatterpolar\":[{\"type\":\"scatterpolar\",\"marker\":{\"colorbar\":{\"outlinewidth\":0,\"ticks\":\"\"}}}],\"histogram\":[{\"marker\":{\"pattern\":{\"fillmode\":\"overlay\",\"size\":10,\"solidity\":0.2}},\"type\":\"histogram\"}],\"scattergl\":[{\"type\":\"scattergl\",\"marker\":{\"colorbar\":{\"outlinewidth\":0,\"ticks\":\"\"}}}],\"scatter3d\":[{\"type\":\"scatter3d\",\"line\":{\"colorbar\":{\"outlinewidth\":0,\"ticks\":\"\"}},\"marker\":{\"colorbar\":{\"outlinewidth\":0,\"ticks\":\"\"}}}],\"scattermapbox\":[{\"type\":\"scattermapbox\",\"marker\":{\"colorbar\":{\"outlinewidth\":0,\"ticks\":\"\"}}}],\"scatterternary\":[{\"type\":\"scatterternary\",\"marker\":{\"colorbar\":{\"outlinewidth\":0,\"ticks\":\"\"}}}],\"scattercarpet\":[{\"type\":\"scattercarpet\",\"marker\":{\"colorbar\":{\"outlinewidth\":0,\"ticks\":\"\"}}}],\"carpet\":[{\"aaxis\":{\"endlinecolor\":\"#2a3f5f\",\"gridcolor\":\"white\",\"linecolor\":\"white\",\"minorgridcolor\":\"white\",\"startlinecolor\":\"#2a3f5f\"},\"baxis\":{\"endlinecolor\":\"#2a3f5f\",\"gridcolor\":\"white\",\"linecolor\":\"white\",\"minorgridcolor\":\"white\",\"startlinecolor\":\"#2a3f5f\"},\"type\":\"carpet\"}],\"table\":[{\"cells\":{\"fill\":{\"color\":\"#EBF0F8\"},\"line\":{\"color\":\"white\"}},\"header\":{\"fill\":{\"color\":\"#C8D4E3\"},\"line\":{\"color\":\"white\"}},\"type\":\"table\"}],\"barpolar\":[{\"marker\":{\"line\":{\"color\":\"#E5ECF6\",\"width\":0.5},\"pattern\":{\"fillmode\":\"overlay\",\"size\":10,\"solidity\":0.2}},\"type\":\"barpolar\"}],\"pie\":[{\"automargin\":true,\"type\":\"pie\"}]},\"layout\":{\"autotypenumbers\":\"strict\",\"colorway\":[\"#636efa\",\"#EF553B\",\"#00cc96\",\"#ab63fa\",\"#FFA15A\",\"#19d3f3\",\"#FF6692\",\"#B6E880\",\"#FF97FF\",\"#FECB52\"],\"font\":{\"color\":\"#2a3f5f\"},\"hovermode\":\"closest\",\"hoverlabel\":{\"align\":\"left\"},\"paper_bgcolor\":\"white\",\"plot_bgcolor\":\"#E5ECF6\",\"polar\":{\"bgcolor\":\"#E5ECF6\",\"angularaxis\":{\"gridcolor\":\"white\",\"linecolor\":\"white\",\"ticks\":\"\"},\"radialaxis\":{\"gridcolor\":\"white\",\"linecolor\":\"white\",\"ticks\":\"\"}},\"ternary\":{\"bgcolor\":\"#E5ECF6\",\"aaxis\":{\"gridcolor\":\"white\",\"linecolor\":\"white\",\"ticks\":\"\"},\"baxis\":{\"gridcolor\":\"white\",\"linecolor\":\"white\",\"ticks\":\"\"},\"caxis\":{\"gridcolor\":\"white\",\"linecolor\":\"white\",\"ticks\":\"\"}},\"coloraxis\":{\"colorbar\":{\"outlinewidth\":0,\"ticks\":\"\"}},\"colorscale\":{\"sequential\":[[0.0,\"#0d0887\"],[0.1111111111111111,\"#46039f\"],[0.2222222222222222,\"#7201a8\"],[0.3333333333333333,\"#9c179e\"],[0.4444444444444444,\"#bd3786\"],[0.5555555555555556,\"#d8576b\"],[0.6666666666666666,\"#ed7953\"],[0.7777777777777778,\"#fb9f3a\"],[0.8888888888888888,\"#fdca26\"],[1.0,\"#f0f921\"]],\"sequentialminus\":[[0.0,\"#0d0887\"],[0.1111111111111111,\"#46039f\"],[0.2222222222222222,\"#7201a8\"],[0.3333333333333333,\"#9c179e\"],[0.4444444444444444,\"#bd3786\"],[0.5555555555555556,\"#d8576b\"],[0.6666666666666666,\"#ed7953\"],[0.7777777777777778,\"#fb9f3a\"],[0.8888888888888888,\"#fdca26\"],[1.0,\"#f0f921\"]],\"diverging\":[[0,\"#8e0152\"],[0.1,\"#c51b7d\"],[0.2,\"#de77ae\"],[0.3,\"#f1b6da\"],[0.4,\"#fde0ef\"],[0.5,\"#f7f7f7\"],[0.6,\"#e6f5d0\"],[0.7,\"#b8e186\"],[0.8,\"#7fbc41\"],[0.9,\"#4d9221\"],[1,\"#276419\"]]},\"xaxis\":{\"gridcolor\":\"white\",\"linecolor\":\"white\",\"ticks\":\"\",\"title\":{\"standoff\":15},\"zerolinecolor\":\"white\",\"automargin\":true,\"zerolinewidth\":2},\"yaxis\":{\"gridcolor\":\"white\",\"linecolor\":\"white\",\"ticks\":\"\",\"title\":{\"standoff\":15},\"zerolinecolor\":\"white\",\"automargin\":true,\"zerolinewidth\":2},\"scene\":{\"xaxis\":{\"backgroundcolor\":\"#E5ECF6\",\"gridcolor\":\"white\",\"linecolor\":\"white\",\"showbackground\":true,\"ticks\":\"\",\"zerolinecolor\":\"white\",\"gridwidth\":2},\"yaxis\":{\"backgroundcolor\":\"#E5ECF6\",\"gridcolor\":\"white\",\"linecolor\":\"white\",\"showbackground\":true,\"ticks\":\"\",\"zerolinecolor\":\"white\",\"gridwidth\":2},\"zaxis\":{\"backgroundcolor\":\"#E5ECF6\",\"gridcolor\":\"white\",\"linecolor\":\"white\",\"showbackground\":true,\"ticks\":\"\",\"zerolinecolor\":\"white\",\"gridwidth\":2}},\"shapedefaults\":{\"line\":{\"color\":\"#2a3f5f\"}},\"annotationdefaults\":{\"arrowcolor\":\"#2a3f5f\",\"arrowhead\":0,\"arrowwidth\":1},\"geo\":{\"bgcolor\":\"white\",\"landcolor\":\"#E5ECF6\",\"subunitcolor\":\"white\",\"showland\":true,\"showlakes\":true,\"lakecolor\":\"white\"},\"title\":{\"x\":0.05},\"mapbox\":{\"style\":\"light\"}}},\"xaxis\":{\"anchor\":\"y\",\"domain\":[0.0,1.0],\"title\":{\"text\":\"Year\"}},\"yaxis\":{\"anchor\":\"x\",\"domain\":[0.0,1.0],\"title\":{\"text\":\"Amount\"}},\"legend\":{\"title\":{\"text\":\"Type of good\"},\"tracegroupgap\":0},\"title\":{\"text\":\"Freight movement by Road\",\"x\":0.3,\"y\":0.95},\"barmode\":\"relative\",\"height\":800,\"width\":2300},                        {\"responsive\": true}                    ).then(function(){\n",
       "                            \n",
       "var gd = document.getElementById('a1061283-fa90-4b35-8ba0-7f778c7bb8d6');\n",
       "var x = new MutationObserver(function (mutations, observer) {{\n",
       "        var display = window.getComputedStyle(gd).display;\n",
       "        if (!display || display === 'none') {{\n",
       "            console.log([gd, 'removed!']);\n",
       "            Plotly.purge(gd);\n",
       "            observer.disconnect();\n",
       "        }}\n",
       "}});\n",
       "\n",
       "// Listen for the removal of the full notebook cells\n",
       "var notebookContainer = gd.closest('#notebook-container');\n",
       "if (notebookContainer) {{\n",
       "    x.observe(notebookContainer, {childList: true});\n",
       "}}\n",
       "\n",
       "// Listen for the clearing of the current output cell\n",
       "var outputEl = gd.closest('.output');\n",
       "if (outputEl) {{\n",
       "    x.observe(outputEl, {childList: true});\n",
       "}}\n",
       "\n",
       "                        })                };                });            </script>        </div>"
      ]
     },
     "metadata": {},
     "output_type": "display_data"
    }
   ],
   "source": [
    "\n",
    "import plotly.express as px\n",
    "\n",
    "fig = px.bar(df1, \n",
    "             x='Year', \n",
    "             y='Amount',  \n",
    "             title='Freight movement by Road',\n",
    "             height=800,\n",
    "             width = 2300,\n",
    "             color= 'Type of good')\n",
    "#              color_discrete_sequence=px.colors.qualitative.Set3\n",
    "fig.update_layout(xaxis_title='Year', yaxis_title='Amount',  title_x=0.3, title_y=.95)\n",
    "            \n",
    "\n",
    "#              \n",
    "            \n",
    "\n",
    "\n",
    "fig.show()"
   ]
  },
  {
   "cell_type": "code",
   "execution_count": null,
   "id": "fa3a77da",
   "metadata": {},
   "outputs": [],
   "source": []
  },
  {
   "cell_type": "code",
   "execution_count": 26,
   "id": "f0569c97",
   "metadata": {},
   "outputs": [
    {
     "name": "stdout",
     "output_type": "stream",
     "text": [
      "                                                    Change from 2008 to 2009  \\\n",
      "Type of good                                                                   \n",
      "Basic metals; fabricated metal products, except...                       NaN   \n",
      "Chemicals, chemical products, and man-made fibe...                       NaN   \n",
      "Coal and lignite; crude petroleum and natural gas                        NaN   \n",
      "Coke and refined petroleum products                                      NaN   \n",
      "Equipment and material utilized in the transpor...                       NaN   \n",
      "Food products, beverages and tobacco                                     NaN   \n",
      "Furniture                                                                NaN   \n",
      "Goods moved in the course of household and offi...                       NaN   \n",
      "Grouped goods0 a mixture of types of goods whic...                       NaN   \n",
      "Machinery and equipment                                                  NaN   \n",
      "Mail, parcels                                                            NaN   \n",
      "Metal ores and other mining and quarrying produ...                       NaN   \n",
      "Other goods n.e.c.                                                       NaN   \n",
      "Other non metallic mineral products                                      NaN   \n",
      "Products of agriculture, hunting, and forestry;...                       NaN   \n",
      "Secondary raw materials                                                  NaN   \n",
      "Textiles and textile products; leather and leat...                       NaN   \n",
      "Transport equipment                                                      NaN   \n",
      "Unidentifiable goods0 goods which for any reaso...                       NaN   \n",
      "Wood and products                                                        NaN   \n",
      "\n",
      "                                                    Change from 2009 to 2010  \\\n",
      "Type of good                                                                   \n",
      "Basic metals; fabricated metal products, except...                -14.611993   \n",
      "Chemicals, chemical products, and man-made fibe...                 13.120429   \n",
      "Coal and lignite; crude petroleum and natural gas                   6.302521   \n",
      "Coke and refined petroleum products                                31.092652   \n",
      "Equipment and material utilized in the transpor...                -11.235348   \n",
      "Food products, beverages and tobacco                                1.296229   \n",
      "Furniture                                                          -8.985158   \n",
      "Goods moved in the course of household and offi...                  6.316218   \n",
      "Grouped goods0 a mixture of types of goods whic...                -10.867761   \n",
      "Machinery and equipment                                            -8.683542   \n",
      "Mail, parcels                                                            NaN   \n",
      "Metal ores and other mining and quarrying produ...                  3.113950   \n",
      "Other goods n.e.c.                                                -21.556075   \n",
      "Other non metallic mineral products                                -2.177885   \n",
      "Products of agriculture, hunting, and forestry;...                 14.607037   \n",
      "Secondary raw materials                                            -0.216864   \n",
      "Textiles and textile products; leather and leat...                 -3.332492   \n",
      "Transport equipment                                               -24.906294   \n",
      "Unidentifiable goods0 goods which for any reaso...                -12.385787   \n",
      "Wood and products                                                 -14.274577   \n",
      "\n",
      "                                                    Change from 2010 to 2011  \\\n",
      "Type of good                                                                   \n",
      "Basic metals; fabricated metal products, except...                 10.722466   \n",
      "Chemicals, chemical products, and man-made fibe...                  7.955849   \n",
      "Coal and lignite; crude petroleum and natural gas                  26.086957   \n",
      "Coke and refined petroleum products                               104.299084   \n",
      "Equipment and material utilized in the transpor...                  6.194852   \n",
      "Food products, beverages and tobacco                               24.642391   \n",
      "Furniture                                                          37.329220   \n",
      "Goods moved in the course of household and offi...                -94.758528   \n",
      "Grouped goods0 a mixture of types of goods whic...                 24.210344   \n",
      "Machinery and equipment                                            25.707711   \n",
      "Mail, parcels                                                            inf   \n",
      "Metal ores and other mining and quarrying produ...                -19.730865   \n",
      "Other goods n.e.c.                                               -100.000000   \n",
      "Other non metallic mineral products                               -25.977863   \n",
      "Products of agriculture, hunting, and forestry;...                 -0.591396   \n",
      "Secondary raw materials                                           103.716015   \n",
      "Textiles and textile products; leather and leat...                 42.204231   \n",
      "Transport equipment                                               -14.629948   \n",
      "Unidentifiable goods0 goods which for any reaso...               1977.636153   \n",
      "Wood and products                                                  12.922695   \n",
      "\n",
      "                                                    Change from 2011 to 2012  \\\n",
      "Type of good                                                                   \n",
      "Basic metals; fabricated metal products, except...                  5.424073   \n",
      "Chemicals, chemical products, and man-made fibe...                  3.352398   \n",
      "Coal and lignite; crude petroleum and natural gas                 -41.379310   \n",
      "Coke and refined petroleum products                               -25.027437   \n",
      "Equipment and material utilized in the transpor...                  5.518308   \n",
      "Food products, beverages and tobacco                                3.648230   \n",
      "Furniture                                                           5.102696   \n",
      "Goods moved in the course of household and offi...                -20.658135   \n",
      "Grouped goods0 a mixture of types of goods whic...                -12.252937   \n",
      "Machinery and equipment                                             3.903623   \n",
      "Mail, parcels                                                      29.040404   \n",
      "Metal ores and other mining and quarrying produ...                  4.068669   \n",
      "Other goods n.e.c.                                                       NaN   \n",
      "Other non metallic mineral products                                 3.195872   \n",
      "Products of agriculture, hunting, and forestry;...                 -0.174684   \n",
      "Secondary raw materials                                           -15.088696   \n",
      "Textiles and textile products; leather and leat...                 -5.472911   \n",
      "Transport equipment                                                 5.907258   \n",
      "Unidentifiable goods0 goods which for any reaso...                 23.312883   \n",
      "Wood and products                                                  -1.599795   \n",
      "\n",
      "                                                    Change from 2012 to 2013  \\\n",
      "Type of good                                                                   \n",
      "Basic metals; fabricated metal products, except...                -10.260077   \n",
      "Chemicals, chemical products, and man-made fibe...                  7.035816   \n",
      "Coal and lignite; crude petroleum and natural gas                   6.417112   \n",
      "Coke and refined petroleum products                               -13.868381   \n",
      "Equipment and material utilized in the transpor...                 -1.542305   \n",
      "Food products, beverages and tobacco                                0.592664   \n",
      "Furniture                                                           0.885496   \n",
      "Goods moved in the course of household and offi...                 -7.834101   \n",
      "Grouped goods0 a mixture of types of goods whic...                 -0.681313   \n",
      "Machinery and equipment                                            -3.744674   \n",
      "Mail, parcels                                                     740.410959   \n",
      "Metal ores and other mining and quarrying produ...                 -0.033314   \n",
      "Other goods n.e.c.                                                       NaN   \n",
      "Other non metallic mineral products                               -24.505836   \n",
      "Products of agriculture, hunting, and forestry;...                 -0.062732   \n",
      "Secondary raw materials                                            -2.180286   \n",
      "Textiles and textile products; leather and leat...                -10.977268   \n",
      "Transport equipment                                               -16.238340   \n",
      "Unidentifiable goods0 goods which for any reaso...                -39.959294   \n",
      "Wood and products                                                  -7.931843   \n",
      "\n",
      "                                                    Change from 2013 to 2014  \\\n",
      "Type of good                                                                   \n",
      "Basic metals; fabricated metal products, except...                 -0.122299   \n",
      "Chemicals, chemical products, and man-made fibe...                 -9.297218   \n",
      "Coal and lignite; crude petroleum and natural gas                  56.281407   \n",
      "Coke and refined petroleum products                                -7.995271   \n",
      "Equipment and material utilized in the transpor...                 73.574186   \n",
      "Food products, beverages and tobacco                               -7.521144   \n",
      "Furniture                                                         -30.266344   \n",
      "Goods moved in the course of household and offi...                 21.250000   \n",
      "Grouped goods0 a mixture of types of goods whic...                  3.129937   \n",
      "Machinery and equipment                                            12.254193   \n",
      "Mail, parcels                                                     -74.106415   \n",
      "Metal ores and other mining and quarrying produ...                 -8.882845   \n",
      "Other goods n.e.c.                                                       inf   \n",
      "Other non metallic mineral products                                20.777985   \n",
      "Products of agriculture, hunting, and forestry;...                 -1.275253   \n",
      "Secondary raw materials                                            17.480985   \n",
      "Textiles and textile products; leather and leat...                  4.692274   \n",
      "Transport equipment                                                 7.204545   \n",
      "Unidentifiable goods0 goods which for any reaso...                 39.412429   \n",
      "Wood and products                                                   3.188265   \n",
      "\n",
      "                                                    Change from 2014 to 2015  \\\n",
      "Type of good                                                                   \n",
      "Basic metals; fabricated metal products, except...                  2.196660   \n",
      "Chemicals, chemical products, and man-made fibe...                 -3.717716   \n",
      "Coal and lignite; crude petroleum and natural gas                 -52.090032   \n",
      "Coke and refined petroleum products                               -11.942816   \n",
      "Equipment and material utilized in the transpor...                 11.039436   \n",
      "Food products, beverages and tobacco                                1.934241   \n",
      "Furniture                                                           5.598958   \n",
      "Goods moved in the course of household and offi...                 -4.536082   \n",
      "Grouped goods0 a mixture of types of goods whic...                  4.148082   \n",
      "Machinery and equipment                                            -9.005422   \n",
      "Mail, parcels                                                      34.712230   \n",
      "Metal ores and other mining and quarrying produ...                  8.165505   \n",
      "Other goods n.e.c.                                                -20.000000   \n",
      "Other non metallic mineral products                                -8.001818   \n",
      "Products of agriculture, hunting, and forestry;...                  3.814942   \n",
      "Secondary raw materials                                            -5.237207   \n",
      "Textiles and textile products; leather and leat...                 -7.963310   \n",
      "Transport equipment                                                -9.327963   \n",
      "Unidentifiable goods0 goods which for any reaso...                -35.494678   \n",
      "Wood and products                                                   4.303728   \n",
      "\n",
      "                                                    Change from 2015 to 2016  \\\n",
      "Type of good                                                                   \n",
      "Basic metals; fabricated metal products, except...                 -9.578099   \n",
      "Chemicals, chemical products, and man-made fibe...                  6.390039   \n",
      "Coal and lignite; crude petroleum and natural gas                  96.644295   \n",
      "Coke and refined petroleum products                               -16.134622   \n",
      "Equipment and material utilized in the transpor...                  1.164754   \n",
      "Food products, beverages and tobacco                                7.581484   \n",
      "Furniture                                                          37.114673   \n",
      "Goods moved in the course of household and offi...                 46.868251   \n",
      "Grouped goods0 a mixture of types of goods whic...                -13.190578   \n",
      "Machinery and equipment                                             3.900325   \n",
      "Mail, parcels                                                       5.941255   \n",
      "Metal ores and other mining and quarrying produ...                 -1.419066   \n",
      "Other goods n.e.c.                                                300.000000   \n",
      "Other non metallic mineral products                                -0.069161   \n",
      "Products of agriculture, hunting, and forestry;...                 -6.980417   \n",
      "Secondary raw materials                                            -0.594969   \n",
      "Textiles and textile products; leather and leat...                 -5.821065   \n",
      "Transport equipment                                                -0.467617   \n",
      "Unidentifiable goods0 goods which for any reaso...                 35.960797   \n",
      "Wood and products                                                   0.319129   \n",
      "\n",
      "                                                    Change from 2016 to 2017  \\\n",
      "Type of good                                                                   \n",
      "Basic metals; fabricated metal products, except...                  0.774976   \n",
      "Chemicals, chemical products, and man-made fibe...                  0.610637   \n",
      "Coal and lignite; crude petroleum and natural gas                 125.597270   \n",
      "Coke and refined petroleum products                                 2.055465   \n",
      "Equipment and material utilized in the transpor...                  8.429986   \n",
      "Food products, beverages and tobacco                                1.864535   \n",
      "Furniture                                                          13.069544   \n",
      "Goods moved in the course of household and offi...                -22.500000   \n",
      "Grouped goods0 a mixture of types of goods whic...                  3.813732   \n",
      "Machinery and equipment                                             5.201733   \n",
      "Mail, parcels                                                       4.599874   \n",
      "Metal ores and other mining and quarrying produ...                  2.947587   \n",
      "Other goods n.e.c.                                               -100.000000   \n",
      "Other non metallic mineral products                                 2.292127   \n",
      "Products of agriculture, hunting, and forestry;...                  6.414388   \n",
      "Secondary raw materials                                             0.935345   \n",
      "Textiles and textile products; leather and leat...                  0.553151   \n",
      "Transport equipment                                                17.253935   \n",
      "Unidentifiable goods0 goods which for any reaso...                -15.562812   \n",
      "Wood and products                                                  -8.791168   \n",
      "\n",
      "                                                    Change from 2017 to 2018  \\\n",
      "Type of good                                                                   \n",
      "Basic metals; fabricated metal products, except...                 -2.789178   \n",
      "Chemicals, chemical products, and man-made fibe...                  8.944071   \n",
      "Coal and lignite; crude petroleum and natural gas                 -89.107413   \n",
      "Coke and refined petroleum products                                 6.798806   \n",
      "Equipment and material utilized in the transpor...                  2.361075   \n",
      "Food products, beverages and tobacco                                1.676159   \n",
      "Furniture                                                         -35.233298   \n",
      "Goods moved in the course of household and offi...                  6.261860   \n",
      "Grouped goods0 a mixture of types of goods whic...                 14.713114   \n",
      "Machinery and equipment                                             2.619039   \n",
      "Mail, parcels                                                     -11.144578   \n",
      "Metal ores and other mining and quarrying produ...                 -0.837247   \n",
      "Other goods n.e.c.                                                       NaN   \n",
      "Other non metallic mineral products                                10.913865   \n",
      "Products of agriculture, hunting, and forestry;...                 -6.539013   \n",
      "Secondary raw materials                                            -4.588294   \n",
      "Textiles and textile products; leather and leat...                 -9.375747   \n",
      "Transport equipment                                               -13.853551   \n",
      "Unidentifiable goods0 goods which for any reaso...                -18.059103   \n",
      "Wood and products                                                  -0.352878   \n",
      "\n",
      "                                                    Change from 2018 to 2019  \\\n",
      "Type of good                                                                   \n",
      "Basic metals; fabricated metal products, except...                  7.398451   \n",
      "Chemicals, chemical products, and man-made fibe...                 -1.544014   \n",
      "Coal and lignite; crude petroleum and natural gas                 327.777778   \n",
      "Coke and refined petroleum products                                -0.718419   \n",
      "Equipment and material utilized in the transpor...                 -8.604562   \n",
      "Food products, beverages and tobacco                               -2.900287   \n",
      "Furniture                                                          31.191158   \n",
      "Goods moved in the course of household and offi...                  1.964286   \n",
      "Grouped goods0 a mixture of types of goods whic...                 20.374640   \n",
      "Machinery and equipment                                            -4.703173   \n",
      "Mail, parcels                                                      32.271186   \n",
      "Metal ores and other mining and quarrying produ...                  5.537371   \n",
      "Other goods n.e.c.                                                       NaN   \n",
      "Other non metallic mineral products                                 2.971591   \n",
      "Products of agriculture, hunting, and forestry;...                  6.128920   \n",
      "Secondary raw materials                                            -5.335917   \n",
      "Textiles and textile products; leather and leat...                 -2.612827   \n",
      "Transport equipment                                                 7.779070   \n",
      "Unidentifiable goods0 goods which for any reaso...                 -2.226180   \n",
      "Wood and products                                                  -1.330039   \n",
      "\n",
      "                                                    Change from 2019 to 2020  \\\n",
      "Type of good                                                                   \n",
      "Basic metals; fabricated metal products, except...                -12.811999   \n",
      "Chemicals, chemical products, and man-made fibe...                 -1.881569   \n",
      "Coal and lignite; crude petroleum and natural gas                  35.064935   \n",
      "Coke and refined petroleum products                                -1.095477   \n",
      "Equipment and material utilized in the transpor...                  5.694526   \n",
      "Food products, beverages and tobacco                                4.806467   \n",
      "Furniture                                                          11.232449   \n",
      "Goods moved in the course of household and offi...                 32.224168   \n",
      "Grouped goods0 a mixture of types of goods whic...                 -2.489825   \n",
      "Machinery and equipment                                            10.794480   \n",
      "Mail, parcels                                                       1.460789   \n",
      "Metal ores and other mining and quarrying produ...                 -3.892249   \n",
      "Other goods n.e.c.                                                       NaN   \n",
      "Other non metallic mineral products                                 6.462806   \n",
      "Products of agriculture, hunting, and forestry;...                  1.500378   \n",
      "Secondary raw materials                                             0.981053   \n",
      "Textiles and textile products; leather and leat...                 39.837398   \n",
      "Transport equipment                                               -12.741396   \n",
      "Unidentifiable goods0 goods which for any reaso...                  7.850638   \n",
      "Wood and products                                                   1.715216   \n",
      "\n",
      "                                                    Change from 2020 to 2021  \\\n",
      "Type of good                                                                   \n",
      "Basic metals; fabricated metal products, except...                 -4.863209   \n",
      "Chemicals, chemical products, and man-made fibe...                  0.576691   \n",
      "Coal and lignite; crude petroleum and natural gas                  24.519231   \n",
      "Coke and refined petroleum products                                -4.471090   \n",
      "Equipment and material utilized in the transpor...                  4.379832   \n",
      "Food products, beverages and tobacco                               -0.777463   \n",
      "Furniture                                                         -18.653576   \n",
      "Goods moved in the course of household and offi...                -29.668874   \n",
      "Grouped goods0 a mixture of types of goods whic...                 -0.326848   \n",
      "Machinery and equipment                                            -6.896309   \n",
      "Mail, parcels                                                      17.277090   \n",
      "Metal ores and other mining and quarrying produ...                  7.004477   \n",
      "Other goods n.e.c.                                                       NaN   \n",
      "Other non metallic mineral products                                -8.316110   \n",
      "Products of agriculture, hunting, and forestry;...                  7.769440   \n",
      "Secondary raw materials                                           -13.905369   \n",
      "Textiles and textile products; leather and leat...                -22.616279   \n",
      "Transport equipment                                                -4.463403   \n",
      "Unidentifiable goods0 goods which for any reaso...                 -0.219558   \n",
      "Wood and products                                                   1.649366   \n",
      "\n",
      "                                                    Change from 2021 to 2022  \\\n",
      "Type of good                                                                   \n",
      "Basic metals; fabricated metal products, except...                 13.241925   \n",
      "Chemicals, chemical products, and man-made fibe...                 -4.792071   \n",
      "Coal and lignite; crude petroleum and natural gas                 -61.776062   \n",
      "Coke and refined petroleum products                                -5.499415   \n",
      "Equipment and material utilized in the transpor...                  8.447714   \n",
      "Food products, beverages and tobacco                                3.913924   \n",
      "Furniture                                                           5.965517   \n",
      "Goods moved in the course of household and offi...                 11.676083   \n",
      "Grouped goods0 a mixture of types of goods whic...                  2.586406   \n",
      "Machinery and equipment                                            12.524092   \n",
      "Mail, parcels                                                      30.174456   \n",
      "Metal ores and other mining and quarrying produ...                 -0.515289   \n",
      "Other goods n.e.c.                                                       NaN   \n",
      "Other non metallic mineral products                                -1.312082   \n",
      "Products of agriculture, hunting, and forestry;...                  3.615163   \n",
      "Secondary raw materials                                             9.268671   \n",
      "Textiles and textile products; leather and leat...                 -1.552717   \n",
      "Transport equipment                                                17.484146   \n",
      "Unidentifiable goods0 goods which for any reaso...                -41.748477   \n",
      "Wood and products                                                  12.585267   \n",
      "\n",
      "                                                    Change from 2022 to 2023  \n",
      "Type of good                                                                  \n",
      "Basic metals; fabricated metal products, except...                -10.633025  \n",
      "Chemicals, chemical products, and man-made fibe...                  0.867749  \n",
      "Coal and lignite; crude petroleum and natural gas                 155.555556  \n",
      "Coke and refined petroleum products                                -1.846015  \n",
      "Equipment and material utilized in the transpor...                  2.037154  \n",
      "Food products, beverages and tobacco                                5.849206  \n",
      "Furniture                                                          -6.117800  \n",
      "Goods moved in the course of household and offi...                -25.295110  \n",
      "Grouped goods0 a mixture of types of goods whic...                  6.014857  \n",
      "Machinery and equipment                                            -2.700252  \n",
      "Mail, parcels                                                       7.759762  \n",
      "Metal ores and other mining and quarrying produ...                 -7.070727  \n",
      "Other goods n.e.c.                                                       NaN  \n",
      "Other non metallic mineral products                                11.252654  \n",
      "Products of agriculture, hunting, and forestry;...                -13.405750  \n",
      "Secondary raw materials                                           -15.291026  \n",
      "Textiles and textile products; leather and leat...                 -2.009667  \n",
      "Transport equipment                                               -26.712932  \n",
      "Unidentifiable goods0 goods which for any reaso...                 64.899027  \n",
      "Wood and products                                                 -16.997096  \n",
      "                                                                                                                                                                                Change from 2008 to 2009  Change from 2009 to 2010  Change from 2010 to 2011  Change from 2011 to 2012  Change from 2012 to 2013  Change from 2013 to 2014  Change from 2014 to 2015  Change from 2015 to 2016  Change from 2016 to 2017  Change from 2017 to 2018  Change from 2018 to 2019  Change from 2019 to 2020  Change from 2020 to 2021  Change from 2021 to 2022  Change from 2022 to 2023\n",
      "Type of good                                                                                                                                                                                                                                                                                                                                                                                                                                                                                                                                                                        \n",
      "Basic metals; fabricated metal products, except machinery and equipment                                                                                                                              NaN                -14.611993                 10.722466                  5.424073                -10.260077                 -0.122299                  2.196660                 -9.578099                  0.774976                 -2.789178                  7.398451                -12.811999                 -4.863209                 13.241925                -10.633025\n",
      "Chemicals, chemical products, and man-made fibers; rubber and plastic products ; nuclear fuel                                                                                                        NaN                 13.120429                  7.955849                  3.352398                  7.035816                 -9.297218                 -3.717716                  6.390039                  0.610637                  8.944071                 -1.544014                 -1.881569                  0.576691                 -4.792071                  0.867749\n",
      "Coal and lignite; crude petroleum and natural gas                                                                                                                                                    NaN                  6.302521                 26.086957                -41.379310                  6.417112                 56.281407                -52.090032                 96.644295                125.597270                -89.107413                327.777778                 35.064935                 24.519231                -61.776062                155.555556\n",
      "Coke and refined petroleum products                                                                                                                                                                  NaN                 31.092652                104.299084                -25.027437                -13.868381                 -7.995271                -11.942816                -16.134622                  2.055465                  6.798806                 -0.718419                 -1.095477                 -4.471090                 -5.499415                 -1.846015\n",
      "Equipment and material utilized in the transport of goods                                                                                                                                            NaN                -11.235348                  6.194852                  5.518308                 -1.542305                 73.574186                 11.039436                  1.164754                  8.429986                  2.361075                 -8.604562                  5.694526                  4.379832                  8.447714                  2.037154\n",
      "Food products, beverages and tobacco                                                                                                                                                                 NaN                  1.296229                 24.642391                  3.648230                  0.592664                 -7.521144                  1.934241                  7.581484                  1.864535                  1.676159                 -2.900287                  4.806467                 -0.777463                  3.913924                  5.849206\n",
      "Furniture                                                                                                                                                                                            NaN                 -8.985158                 37.329220                  5.102696                  0.885496                -30.266344                  5.598958                 37.114673                 13.069544                -35.233298                 31.191158                 11.232449                -18.653576                  5.965517                 -6.117800\n",
      "Goods moved in the course of household and office removals; baggage and articles accompanying travellers; motor vehicles being moved for repair; other non market goods n.e.c.                       NaN                  6.316218                -94.758528                -20.658135                 -7.834101                 21.250000                 -4.536082                 46.868251                -22.500000                  6.261860                  1.964286                 32.224168                -29.668874                 11.676083                -25.295110\n",
      "Grouped goods0 a mixture of types of goods which are transported together                                                                                                                            NaN                -10.867761                 24.210344                -12.252937                 -0.681313                  3.129937                  4.148082                -13.190578                  3.813732                 14.713114                 20.374640                 -2.489825                 -0.326848                  2.586406                  6.014857\n",
      "Machinery and equipment                                                                                                                                                                              NaN                 -8.683542                 25.707711                  3.903623                 -3.744674                 12.254193                 -9.005422                  3.900325                  5.201733                  2.619039                 -4.703173                 10.794480                 -6.896309                 12.524092                 -2.700252\n",
      "Mail, parcels                                                                                                                                                                                        NaN                       NaN                       inf                 29.040404                740.410959                -74.106415                 34.712230                  5.941255                  4.599874                -11.144578                 32.271186                  1.460789                 17.277090                 30.174456                  7.759762\n",
      "Metal ores and other mining and quarrying products; peat; uranium and thorium                                                                                                                        NaN                  3.113950                -19.730865                  4.068669                 -0.033314                 -8.882845                  8.165505                 -1.419066                  2.947587                 -0.837247                  5.537371                 -3.892249                  7.004477                 -0.515289                 -7.070727\n",
      "Other goods n.e.c.                                                                                                                                                                                   NaN                -21.556075               -100.000000                       NaN                       NaN                       inf                -20.000000                300.000000               -100.000000                       NaN                       NaN                       NaN                       NaN                       NaN                       NaN\n",
      "Other non metallic mineral products                                                                                                                                                                  NaN                 -2.177885                -25.977863                  3.195872                -24.505836                 20.777985                 -8.001818                 -0.069161                  2.292127                 10.913865                  2.971591                  6.462806                 -8.316110                 -1.312082                 11.252654\n",
      "Products of agriculture, hunting, and forestry; fish and other fishing products                                                                                                                      NaN                 14.607037                 -0.591396                 -0.174684                 -0.062732                 -1.275253                  3.814942                 -6.980417                  6.414388                 -6.539013                  6.128920                  1.500378                  7.769440                  3.615163                -13.405750\n",
      "Secondary raw materials                                                                                                                                                                              NaN                 -0.216864                103.716015                -15.088696                 -2.180286                 17.480985                 -5.237207                 -0.594969                  0.935345                 -4.588294                 -5.335917                  0.981053                -13.905369                  9.268671                -15.291026\n",
      "Textiles and textile products; leather and leather products                                                                                                                                          NaN                 -3.332492                 42.204231                 -5.472911                -10.977268                  4.692274                 -7.963310                 -5.821065                  0.553151                 -9.375747                 -2.612827                 39.837398                -22.616279                 -1.552717                 -2.009667\n",
      "Transport equipment                                                                                                                                                                                  NaN                -24.906294                -14.629948                  5.907258                -16.238340                  7.204545                 -9.327963                 -0.467617                 17.253935                -13.853551                  7.779070                -12.741396                 -4.463403                 17.484146                -26.712932\n",
      "Unidentifiable goods0 goods which for any reason cannot be identified                                                                                                                                NaN                -12.385787               1977.636153                 23.312883                -39.959294                 39.412429                -35.494678                 35.960797                -15.562812                -18.059103                 -2.226180                  7.850638                 -0.219558                -41.748477                 64.899027\n",
      "Wood and products                                                                                                                                                                                    NaN                -14.274577                 12.922695                 -1.599795                 -7.931843                  3.188265                  4.303728                  0.319129                 -8.791168                 -0.352878                 -1.330039                  1.715216                  1.649366                 12.585267                -16.997096\n"
     ]
    }
   ],
   "source": [
    "\n",
    "pivoted_df = df1.pivot(index='Type of good', columns='Year', values='Amount')\n",
    "\n",
    "\n",
    "percentage_change_df = pivoted_df.pct_change(axis=1) * 100\n",
    "\n",
    "percentage_change_df.columns = [f'Change from {year} to {year + 1}' for year in percentage_change_df.columns]\n",
    "\n",
    "print(percentage_change_df)\n",
    "\n",
    "print(percentage_change_df.to_string())\n",
    "\n",
    "percentage_change_df.to_csv('percentage_change_data.csv')\n",
    "\n"
   ]
  },
  {
   "cell_type": "code",
   "execution_count": null,
   "id": "42ffd0a1",
   "metadata": {},
   "outputs": [],
   "source": []
  }
 ],
 "metadata": {
  "kernelspec": {
   "display_name": "Python 3 (ipykernel)",
   "language": "python",
   "name": "python3"
  },
  "language_info": {
   "codemirror_mode": {
    "name": "ipython",
    "version": 3
   },
   "file_extension": ".py",
   "mimetype": "text/x-python",
   "name": "python",
   "nbconvert_exporter": "python",
   "pygments_lexer": "ipython3",
   "version": "3.11.4"
  }
 },
 "nbformat": 4,
 "nbformat_minor": 5
}
